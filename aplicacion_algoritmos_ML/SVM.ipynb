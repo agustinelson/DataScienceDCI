{
 "cells": [
  {
   "cell_type": "markdown",
   "id": "745370a1-cee1-4ba1-9375-d9d5286a0125",
   "metadata": {},
   "source": [
    "# Support Vector Machine\n",
    "\n",
    "El algoritmo _maquinas de soporte vectorial_ se basa en encontrar un hiperplano de separación que maximice la distancia entre los puntos de diferentes clases. Puede separar tanto datos linealmente separables como no linealmente separables. \n",
    "\n",
    "Se aplica para **clasificar variables categóricas o predecir valores numéricos**. Se utiliza en clasificación de texto, reconocimiento de imágenes, bioinformática, análisis financiero y medicina, entre otros."
   ]
  },
  {
   "cell_type": "code",
   "execution_count": 1,
   "id": "33bc1dfe-34e5-4347-814f-fcf84b61efc8",
   "metadata": {},
   "outputs": [],
   "source": [
    "import pandas as pd\n",
    "import numpy as np\n",
    "import seaborn as sns\n",
    "import matplotlib.pyplot as plt\n",
    "\n",
    "from sklearn.model_selection import train_test_split\n",
    "from sklearn.metrics import accuracy_score, confusion_matrix, ConfusionMatrixDisplay\n",
    "from sklearn.svm import SVC, SVR\n",
    "\n",
    "import warnings\n",
    "warnings.filterwarnings('ignore')"
   ]
  },
  {
   "cell_type": "markdown",
   "id": "44032cba-a726-4257-bfe9-f87039444cbe",
   "metadata": {},
   "source": [
    "### Clasificación"
   ]
  },
  {
   "cell_type": "code",
   "execution_count": 2,
   "id": "f1da0dca-ddbe-4d63-818c-467bc191844f",
   "metadata": {},
   "outputs": [],
   "source": [
    "from sklearn.datasets import load_diabetes\n",
    "from sklearn import preprocessing\n",
    "\n",
    "diabetes = load_diabetes()\n",
    "\n",
    "df = pd.DataFrame(data=diabetes.data, columns=diabetes.feature_names)\n",
    "df['target'] = diabetes.target\n",
    "le = preprocessing.LabelEncoder()\n",
    "\n",
    "y = le.fit_transform(df[['sex']])\n",
    "X = df.drop(columns=['sex']) \n",
    "\n",
    "X_train, X_test, y_train, y_test = train_test_split(X, y, test_size=0.3, random_state=0 )"
   ]
  },
  {
   "cell_type": "code",
   "execution_count": 3,
   "id": "1f84d9fc-9fba-4fe3-b081-a41b6a053fd5",
   "metadata": {},
   "outputs": [
    {
     "name": "stdout",
     "output_type": "stream",
     "text": [
      "Score:  0.518796992481203\n"
     ]
    },
    {
     "data": {
      "image/png": "[encoded data removed]",
      "text/plain": [
       "<Figure size 432x288 with 2 Axes>"
      ]
     },
     "metadata": {
      "needs_background": "light"
     },
     "output_type": "display_data"
    }
   ],
   "source": [
    "svc = SVC() #Support Vector Classification\n",
    "svc.fit(X_train, y_train)\n",
    "y_pred = svc.predict(X_test)\n",
    "\n",
    "#accuracy = accuracy_score(y_test, y_pred)\n",
    "accuracy = svc.score(X_test, y_test)\n",
    "print('Score: ', svc.score(X_test, y_test))\n",
    "\n",
    "matriz_confusion = confusion_matrix(y_test, y_pred)\n",
    "ConfusionMatrixDisplay(matriz_confusion).plot(cmap=plt.cm.Blues);"
   ]
  },
  {
   "cell_type": "markdown",
   "id": "72203082-22e8-4556-b92a-1c9ed25b9e62",
   "metadata": {},
   "source": [
    "---\n",
    "\n",
    "### Predicción de valores numéricos"
   ]
  },
  {
   "cell_type": "code",
   "execution_count": 4,
   "id": "ebf5b072-2ba9-45d8-8d20-f675608cf4ca",
   "metadata": {},
   "outputs": [],
   "source": [
    "df = pd.DataFrame(data=diabetes.data, columns=diabetes.feature_names)\n",
    "df['target'] = diabetes.target\n",
    "\n",
    "X = df.drop(columns=['target']) \n",
    "y = df['target']\n",
    "\n",
    "X_train, X_test, y_train, y_test = train_test_split(X, y, test_size=0.3, random_state=0 )"
   ]
  },
  {
   "cell_type": "code",
   "execution_count": 5,
   "id": "f3a68ebe-1924-4e2c-8c7f-7e1e778295e6",
   "metadata": {},
   "outputs": [
    {
     "name": "stdout",
     "output_type": "stream",
     "text": [
      "Score:  0.1369885101142122\n"
     ]
    }
   ],
   "source": [
    "svc2 = SVR() #Support Vector Regression\n",
    "svc2.fit(X_train, y_train)\n",
    "y_pred = svc2.predict(X_test)\n",
    "\n",
    "print('Score: ', svc2.score(X_test, y_test))"
   ]
  },
  {
   "cell_type": "code",
   "execution_count": 6,
   "id": "1575064d-da5b-4161-b053-51208c5715ac",
   "metadata": {},
   "outputs": [
    {
     "data": {
      "text/plain": [
       "array([154.16966787, 158.89042919, 140.94980385])"
      ]
     },
     "execution_count": 6,
     "metadata": {},
     "output_type": "execute_result"
    }
   ],
   "source": [
    "y_pred[0:3]"
   ]
  },
  {
   "cell_type": "code",
   "execution_count": null,
   "id": "da2ff8b5-f7db-4c1d-ab40-505369778396",
   "metadata": {},
   "outputs": [],
   "source": []
  }
 ],
 "metadata": {
  "kernelspec": {
   "display_name": "Python 3",
   "language": "python",
   "name": "python3"
  },
  "language_info": {
   "codemirror_mode": {
    "name": "ipython",
    "version": 3
   },
   "file_extension": ".py",
   "mimetype": "text/x-python",
   "name": "python",
   "nbconvert_exporter": "python",
   "pygments_lexer": "ipython3",
   "version": "3.8.13"
  }
 },
 "nbformat": 4,
 "nbformat_minor": 5
}
