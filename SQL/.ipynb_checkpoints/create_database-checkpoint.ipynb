{
 "cells": [
  {
   "cell_type": "markdown",
   "id": "da1b91a7-f338-4a4e-9a73-efd023d58213",
   "metadata": {},
   "source": [
    "### [Documentation Python SQL Libraries](https://realpython.com/python-sql-libraries/)"
   ]
  },
  {
   "cell_type": "code",
   "execution_count": 1,
   "id": "fa40d9d4-89a9-4a7a-b0a2-435173943e66",
   "metadata": {},
   "outputs": [],
   "source": [
    "import sqlite3\n",
    "from sqlite3 import Error"
   ]
  },
  {
   "cell_type": "markdown",
   "id": "b88c641f-6692-4f52-9003-0c47b9ad3b9a",
   "metadata": {},
   "source": [
    "### Hacer conexión a la base de datos"
   ]
  },
  {
   "cell_type": "code",
   "execution_count": 2,
   "id": "84516cee-34aa-45fe-a1b3-6d20ee468833",
   "metadata": {},
   "outputs": [],
   "source": [
    "path = './'\n",
    "connection = sqlite3.connect(path + 'mi_db.sqlite')"
   ]
  },
  {
   "cell_type": "markdown",
   "id": "c5d13858-ecb4-404a-bb0a-0eae4daff997",
   "metadata": {},
   "source": [
    "### Crear tablas \n",
    "\n",
    "Solo su estructura, por ahora sin valores."
   ]
  },
  {
   "cell_type": "code",
   "execution_count": 3,
   "id": "517480bc-cf13-4402-a9b3-d61b91d02b86",
   "metadata": {},
   "outputs": [],
   "source": [
    "create_users_table = \"\"\"\n",
    "CREATE TABLE IF NOT EXISTS users (\n",
    "  id INTEGER PRIMARY KEY AUTOINCREMENT,\n",
    "  name TEXT NOT NULL,\n",
    "  age INTEGER,\n",
    "  gender TEXT,\n",
    "  nationality TEXT\n",
    ");\n",
    "\"\"\""
   ]
  },
  {
   "cell_type": "code",
   "execution_count": 4,
   "id": "348cacc9-83e6-449a-a58f-94c4ae3632f5",
   "metadata": {},
   "outputs": [],
   "source": [
    "cursor = connection.cursor()\n",
    "cursor.execute(create_users_table)\n",
    "connection.commit()"
   ]
  },
  {
   "cell_type": "code",
   "execution_count": 5,
   "id": "459b21ae-792e-4961-8a37-9ab85e334021",
   "metadata": {},
   "outputs": [],
   "source": [
    "create_posts_table = \"\"\"\n",
    "CREATE TABLE IF NOT EXISTS posts(\n",
    "  id INTEGER PRIMARY KEY AUTOINCREMENT, \n",
    "  title TEXT NOT NULL, \n",
    "  description TEXT NOT NULL, \n",
    "  user_id INTEGER NOT NULL, \n",
    "  FOREIGN KEY (user_id) REFERENCES users (id)\n",
    ");\n",
    "\"\"\""
   ]
  },
  {
   "cell_type": "code",
   "execution_count": 6,
   "id": "396dca38-796d-40c6-a73e-d0efd778e7fb",
   "metadata": {},
   "outputs": [],
   "source": [
    "cursor.execute(create_posts_table)\n",
    "connection.commit()"
   ]
  },
  {
   "cell_type": "code",
   "execution_count": 7,
   "id": "4ba9af17-6d13-43ad-8ede-02c0bce04a48",
   "metadata": {},
   "outputs": [],
   "source": [
    "create_comments_table = \"\"\"\n",
    "CREATE TABLE IF NOT EXISTS comments (\n",
    "  id INTEGER PRIMARY KEY AUTOINCREMENT, \n",
    "  text TEXT NOT NULL, \n",
    "  user_id INTEGER NOT NULL, \n",
    "  post_id INTEGER NOT NULL, \n",
    "  FOREIGN KEY (user_id) REFERENCES users (id) FOREIGN KEY (post_id) REFERENCES posts (id)\n",
    ");\n",
    "\"\"\"\n",
    "\n",
    "create_likes_table = \"\"\"\n",
    "CREATE TABLE IF NOT EXISTS likes (\n",
    "  id INTEGER PRIMARY KEY AUTOINCREMENT, \n",
    "  user_id INTEGER NOT NULL, \n",
    "  post_id integer NOT NULL, \n",
    "  FOREIGN KEY (user_id) REFERENCES users (id) FOREIGN KEY (post_id) REFERENCES posts (id)\n",
    ");\n",
    "\"\"\"\n",
    "\n",
    "cursor.execute(create_comments_table)\n",
    "cursor.execute(create_likes_table)\n",
    "connection.commit()"
   ]
  },
  {
   "cell_type": "markdown",
   "id": "bea9415a-fa27-4922-a9ff-8250873e6840",
   "metadata": {},
   "source": [
    "## Insertar valores"
   ]
  },
  {
   "cell_type": "code",
   "execution_count": 8,
   "id": "ea9e08d0-ba0c-440d-ab55-5cb1e4d9aa0d",
   "metadata": {},
   "outputs": [
    {
     "data": {
      "text/plain": [
       "<sqlite3.Cursor at 0x7f7cb2298810>"
      ]
     },
     "execution_count": 8,
     "metadata": {},
     "output_type": "execute_result"
    }
   ],
   "source": [
    "create_users = \"\"\"\n",
    "INSERT INTO\n",
    "  users (name, age, gender, nationality)\n",
    "VALUES\n",
    "  ('James', 25, 'male', 'USA'),\n",
    "  ('Leila', 32, 'female', 'France'),\n",
    "  ('Brigitte', 35, 'female', 'England'),\n",
    "  ('Mike', 40, 'male', 'Denmark'),\n",
    "  ('Elizabeth', 21, 'female', 'Canada');\n",
    "\"\"\"\n",
    "\n",
    "cursor.execute(create_users)   "
   ]
  },
  {
   "cell_type": "code",
   "execution_count": 9,
   "id": "e9094f72-ec6e-4572-bde1-bc0074f3b547",
   "metadata": {},
   "outputs": [],
   "source": [
    "create_posts = \"\"\"\n",
    "INSERT INTO\n",
    "  posts (title, description, user_id)\n",
    "VALUES\n",
    "  (\"Happy\", \"I am feeling very happy today\", 1),\n",
    "  (\"Hot Weather\", \"The weather is very hot today\", 2),\n",
    "  (\"Help\", \"I need some help with my work\", 2),\n",
    "  (\"Great News\", \"I am getting married\", 1),\n",
    "  (\"Interesting Game\", \"It was a fantastic game of tennis\", 5),\n",
    "  (\"Party\", \"Anyone up for a late-night party today?\", 3);\n",
    "\"\"\"\n",
    "\n",
    "create_comments = \"\"\"\n",
    "INSERT INTO\n",
    "  comments (text, user_id, post_id)\n",
    "VALUES\n",
    "  ('Count me in', 1, 6),\n",
    "  ('What sort of help?', 5, 3),\n",
    "  ('Congrats buddy', 2, 4),\n",
    "  ('I was rooting for Nadal though', 4, 5),\n",
    "  ('Help with your thesis?', 2, 3),\n",
    "  ('Many congratulations', 5, 4);\n",
    "\"\"\"\n",
    "\n",
    "create_likes = \"\"\"\n",
    "INSERT INTO\n",
    "  likes (user_id, post_id)\n",
    "VALUES\n",
    "  (1, 6),\n",
    "  (2, 3),\n",
    "  (1, 5),\n",
    "  (5, 4),\n",
    "  (2, 4),\n",
    "  (4, 2),\n",
    "  (3, 6);\n",
    "\"\"\"\n",
    "\n",
    "cursor.execute(create_posts) \n",
    "cursor.execute(create_comments) \n",
    "cursor.execute(create_likes) \n",
    "connection.commit()"
   ]
  },
  {
   "cell_type": "markdown",
   "id": "a21a7cd8-adec-483d-aa60-4215536c3030",
   "metadata": {},
   "source": [
    "## Extraer datos"
   ]
  },
  {
   "cell_type": "code",
   "execution_count": 10,
   "id": "09889a53-277e-45f1-a074-7f2a506c5a7c",
   "metadata": {},
   "outputs": [
    {
     "name": "stdout",
     "output_type": "stream",
     "text": [
      "(1, 'James', 25, 'male', 'USA')\n",
      "(2, 'Leila', 32, 'female', 'France')\n",
      "(3, 'Brigitte', 35, 'female', 'England')\n",
      "(4, 'Mike', 40, 'male', 'Denmark')\n",
      "(5, 'Elizabeth', 21, 'female', 'Canada')\n"
     ]
    }
   ],
   "source": [
    "select_users = \"SELECT * from users\"\n",
    "users = cursor.execute(select_users)\n",
    "\n",
    "for user in users:\n",
    "    print(user)"
   ]
  },
  {
   "cell_type": "code",
   "execution_count": 11,
   "id": "6bc0e60a-345a-406b-8d15-20e07f4bb999",
   "metadata": {},
   "outputs": [
    {
     "data": {
      "text/plain": [
       "sqlite3.Cursor"
      ]
     },
     "execution_count": 11,
     "metadata": {},
     "output_type": "execute_result"
    }
   ],
   "source": [
    "type(users)"
   ]
  },
  {
   "cell_type": "code",
   "execution_count": 12,
   "id": "88b10882-0bab-43a5-aa05-ea86c3745a8f",
   "metadata": {},
   "outputs": [
    {
     "data": {
      "text/html": [
       "<div>\n",
       "<style scoped>\n",
       "    .dataframe tbody tr th:only-of-type {\n",
       "        vertical-align: middle;\n",
       "    }\n",
       "\n",
       "    .dataframe tbody tr th {\n",
       "        vertical-align: top;\n",
       "    }\n",
       "\n",
       "    .dataframe thead th {\n",
       "        text-align: right;\n",
       "    }\n",
       "</style>\n",
       "<table border=\"1\" class=\"dataframe\">\n",
       "  <thead>\n",
       "    <tr style=\"text-align: right;\">\n",
       "      <th></th>\n",
       "      <th>id</th>\n",
       "      <th>name</th>\n",
       "      <th>age</th>\n",
       "      <th>gender</th>\n",
       "      <th>nationality</th>\n",
       "    </tr>\n",
       "  </thead>\n",
       "  <tbody>\n",
       "    <tr>\n",
       "      <th>0</th>\n",
       "      <td>1</td>\n",
       "      <td>James</td>\n",
       "      <td>25</td>\n",
       "      <td>male</td>\n",
       "      <td>USA</td>\n",
       "    </tr>\n",
       "    <tr>\n",
       "      <th>1</th>\n",
       "      <td>2</td>\n",
       "      <td>Leila</td>\n",
       "      <td>32</td>\n",
       "      <td>female</td>\n",
       "      <td>France</td>\n",
       "    </tr>\n",
       "    <tr>\n",
       "      <th>2</th>\n",
       "      <td>3</td>\n",
       "      <td>Brigitte</td>\n",
       "      <td>35</td>\n",
       "      <td>female</td>\n",
       "      <td>England</td>\n",
       "    </tr>\n",
       "    <tr>\n",
       "      <th>3</th>\n",
       "      <td>4</td>\n",
       "      <td>Mike</td>\n",
       "      <td>40</td>\n",
       "      <td>male</td>\n",
       "      <td>Denmark</td>\n",
       "    </tr>\n",
       "    <tr>\n",
       "      <th>4</th>\n",
       "      <td>5</td>\n",
       "      <td>Elizabeth</td>\n",
       "      <td>21</td>\n",
       "      <td>female</td>\n",
       "      <td>Canada</td>\n",
       "    </tr>\n",
       "  </tbody>\n",
       "</table>\n",
       "</div>"
      ],
      "text/plain": [
       "   id       name  age  gender nationality\n",
       "0   1      James   25    male         USA\n",
       "1   2      Leila   32  female      France\n",
       "2   3   Brigitte   35  female     England\n",
       "3   4       Mike   40    male     Denmark\n",
       "4   5  Elizabeth   21  female      Canada"
      ]
     },
     "execution_count": 12,
     "metadata": {},
     "output_type": "execute_result"
    }
   ],
   "source": [
    "import pandas as pd \n",
    "\n",
    "pd.read_sql(\"\"\"SELECT * FROM users;\"\"\", connection)"
   ]
  },
  {
   "cell_type": "code",
   "execution_count": 13,
   "id": "cd5f4c97-477a-4d73-864a-d1bc50067a18",
   "metadata": {},
   "outputs": [
    {
     "data": {
      "text/html": [
       "<div>\n",
       "<style scoped>\n",
       "    .dataframe tbody tr th:only-of-type {\n",
       "        vertical-align: middle;\n",
       "    }\n",
       "\n",
       "    .dataframe tbody tr th {\n",
       "        vertical-align: top;\n",
       "    }\n",
       "\n",
       "    .dataframe thead th {\n",
       "        text-align: right;\n",
       "    }\n",
       "</style>\n",
       "<table border=\"1\" class=\"dataframe\">\n",
       "  <thead>\n",
       "    <tr style=\"text-align: right;\">\n",
       "      <th></th>\n",
       "      <th>id</th>\n",
       "      <th>title</th>\n",
       "      <th>description</th>\n",
       "      <th>user_id</th>\n",
       "    </tr>\n",
       "  </thead>\n",
       "  <tbody>\n",
       "    <tr>\n",
       "      <th>0</th>\n",
       "      <td>1</td>\n",
       "      <td>Happy</td>\n",
       "      <td>I am feeling very happy today</td>\n",
       "      <td>1</td>\n",
       "    </tr>\n",
       "    <tr>\n",
       "      <th>1</th>\n",
       "      <td>2</td>\n",
       "      <td>Hot Weather</td>\n",
       "      <td>The weather is very hot today</td>\n",
       "      <td>2</td>\n",
       "    </tr>\n",
       "    <tr>\n",
       "      <th>2</th>\n",
       "      <td>3</td>\n",
       "      <td>Help</td>\n",
       "      <td>I need some help with my work</td>\n",
       "      <td>2</td>\n",
       "    </tr>\n",
       "    <tr>\n",
       "      <th>3</th>\n",
       "      <td>4</td>\n",
       "      <td>Great News</td>\n",
       "      <td>I am getting married</td>\n",
       "      <td>1</td>\n",
       "    </tr>\n",
       "    <tr>\n",
       "      <th>4</th>\n",
       "      <td>5</td>\n",
       "      <td>Interesting Game</td>\n",
       "      <td>It was a fantastic game of tennis</td>\n",
       "      <td>5</td>\n",
       "    </tr>\n",
       "    <tr>\n",
       "      <th>5</th>\n",
       "      <td>6</td>\n",
       "      <td>Party</td>\n",
       "      <td>Anyone up for a late-night party today?</td>\n",
       "      <td>3</td>\n",
       "    </tr>\n",
       "  </tbody>\n",
       "</table>\n",
       "</div>"
      ],
      "text/plain": [
       "   id             title                              description  user_id\n",
       "0   1             Happy            I am feeling very happy today        1\n",
       "1   2       Hot Weather            The weather is very hot today        2\n",
       "2   3              Help            I need some help with my work        2\n",
       "3   4        Great News                     I am getting married        1\n",
       "4   5  Interesting Game        It was a fantastic game of tennis        5\n",
       "5   6             Party  Anyone up for a late-night party today?        3"
      ]
     },
     "execution_count": 13,
     "metadata": {},
     "output_type": "execute_result"
    }
   ],
   "source": [
    "pd.read_sql(\"\"\"SELECT * FROM posts;\"\"\", connection)"
   ]
  },
  {
   "cell_type": "code",
   "execution_count": 14,
   "id": "cf018cf3-2250-4b35-b995-dc0cf896c81d",
   "metadata": {},
   "outputs": [
    {
     "data": {
      "text/html": [
       "<div>\n",
       "<style scoped>\n",
       "    .dataframe tbody tr th:only-of-type {\n",
       "        vertical-align: middle;\n",
       "    }\n",
       "\n",
       "    .dataframe tbody tr th {\n",
       "        vertical-align: top;\n",
       "    }\n",
       "\n",
       "    .dataframe thead th {\n",
       "        text-align: right;\n",
       "    }\n",
       "</style>\n",
       "<table border=\"1\" class=\"dataframe\">\n",
       "  <thead>\n",
       "    <tr style=\"text-align: right;\">\n",
       "      <th></th>\n",
       "      <th>id</th>\n",
       "      <th>text</th>\n",
       "      <th>user_id</th>\n",
       "      <th>post_id</th>\n",
       "    </tr>\n",
       "  </thead>\n",
       "  <tbody>\n",
       "    <tr>\n",
       "      <th>0</th>\n",
       "      <td>1</td>\n",
       "      <td>Count me in</td>\n",
       "      <td>1</td>\n",
       "      <td>6</td>\n",
       "    </tr>\n",
       "    <tr>\n",
       "      <th>1</th>\n",
       "      <td>2</td>\n",
       "      <td>What sort of help?</td>\n",
       "      <td>5</td>\n",
       "      <td>3</td>\n",
       "    </tr>\n",
       "    <tr>\n",
       "      <th>2</th>\n",
       "      <td>3</td>\n",
       "      <td>Congrats buddy</td>\n",
       "      <td>2</td>\n",
       "      <td>4</td>\n",
       "    </tr>\n",
       "    <tr>\n",
       "      <th>3</th>\n",
       "      <td>4</td>\n",
       "      <td>I was rooting for Nadal though</td>\n",
       "      <td>4</td>\n",
       "      <td>5</td>\n",
       "    </tr>\n",
       "    <tr>\n",
       "      <th>4</th>\n",
       "      <td>5</td>\n",
       "      <td>Help with your thesis?</td>\n",
       "      <td>2</td>\n",
       "      <td>3</td>\n",
       "    </tr>\n",
       "    <tr>\n",
       "      <th>5</th>\n",
       "      <td>6</td>\n",
       "      <td>Many congratulations</td>\n",
       "      <td>5</td>\n",
       "      <td>4</td>\n",
       "    </tr>\n",
       "  </tbody>\n",
       "</table>\n",
       "</div>"
      ],
      "text/plain": [
       "   id                            text  user_id  post_id\n",
       "0   1                     Count me in        1        6\n",
       "1   2              What sort of help?        5        3\n",
       "2   3                  Congrats buddy        2        4\n",
       "3   4  I was rooting for Nadal though        4        5\n",
       "4   5          Help with your thesis?        2        3\n",
       "5   6            Many congratulations        5        4"
      ]
     },
     "execution_count": 14,
     "metadata": {},
     "output_type": "execute_result"
    }
   ],
   "source": [
    "pd.read_sql(\"\"\"SELECT * FROM comments;\"\"\", connection)"
   ]
  },
  {
   "cell_type": "code",
   "execution_count": 15,
   "id": "83770531-d6ec-457a-8c76-280ed1a217c4",
   "metadata": {},
   "outputs": [
    {
     "data": {
      "text/html": [
       "<div>\n",
       "<style scoped>\n",
       "    .dataframe tbody tr th:only-of-type {\n",
       "        vertical-align: middle;\n",
       "    }\n",
       "\n",
       "    .dataframe tbody tr th {\n",
       "        vertical-align: top;\n",
       "    }\n",
       "\n",
       "    .dataframe thead th {\n",
       "        text-align: right;\n",
       "    }\n",
       "</style>\n",
       "<table border=\"1\" class=\"dataframe\">\n",
       "  <thead>\n",
       "    <tr style=\"text-align: right;\">\n",
       "      <th></th>\n",
       "      <th>id</th>\n",
       "      <th>user_id</th>\n",
       "      <th>post_id</th>\n",
       "    </tr>\n",
       "  </thead>\n",
       "  <tbody>\n",
       "    <tr>\n",
       "      <th>0</th>\n",
       "      <td>1</td>\n",
       "      <td>1</td>\n",
       "      <td>6</td>\n",
       "    </tr>\n",
       "    <tr>\n",
       "      <th>1</th>\n",
       "      <td>2</td>\n",
       "      <td>2</td>\n",
       "      <td>3</td>\n",
       "    </tr>\n",
       "    <tr>\n",
       "      <th>2</th>\n",
       "      <td>3</td>\n",
       "      <td>1</td>\n",
       "      <td>5</td>\n",
       "    </tr>\n",
       "    <tr>\n",
       "      <th>3</th>\n",
       "      <td>4</td>\n",
       "      <td>5</td>\n",
       "      <td>4</td>\n",
       "    </tr>\n",
       "    <tr>\n",
       "      <th>4</th>\n",
       "      <td>5</td>\n",
       "      <td>2</td>\n",
       "      <td>4</td>\n",
       "    </tr>\n",
       "    <tr>\n",
       "      <th>5</th>\n",
       "      <td>6</td>\n",
       "      <td>4</td>\n",
       "      <td>2</td>\n",
       "    </tr>\n",
       "    <tr>\n",
       "      <th>6</th>\n",
       "      <td>7</td>\n",
       "      <td>3</td>\n",
       "      <td>6</td>\n",
       "    </tr>\n",
       "  </tbody>\n",
       "</table>\n",
       "</div>"
      ],
      "text/plain": [
       "   id  user_id  post_id\n",
       "0   1        1        6\n",
       "1   2        2        3\n",
       "2   3        1        5\n",
       "3   4        5        4\n",
       "4   5        2        4\n",
       "5   6        4        2\n",
       "6   7        3        6"
      ]
     },
     "execution_count": 15,
     "metadata": {},
     "output_type": "execute_result"
    }
   ],
   "source": [
    "pd.read_sql(\"\"\"SELECT * FROM likes;\"\"\", connection)"
   ]
  },
  {
   "cell_type": "markdown",
   "id": "c1732702-bb13-49e6-840b-2382584febf6",
   "metadata": {},
   "source": [
    "## Eliminar/Modificar registros/campos"
   ]
  },
  {
   "cell_type": "code",
   "execution_count": 16,
   "id": "d0a1abbc-9367-4a4b-aafa-e6de9d581698",
   "metadata": {},
   "outputs": [
    {
     "data": {
      "text/html": [
       "<div>\n",
       "<style scoped>\n",
       "    .dataframe tbody tr th:only-of-type {\n",
       "        vertical-align: middle;\n",
       "    }\n",
       "\n",
       "    .dataframe tbody tr th {\n",
       "        vertical-align: top;\n",
       "    }\n",
       "\n",
       "    .dataframe thead th {\n",
       "        text-align: right;\n",
       "    }\n",
       "</style>\n",
       "<table border=\"1\" class=\"dataframe\">\n",
       "  <thead>\n",
       "    <tr style=\"text-align: right;\">\n",
       "      <th></th>\n",
       "      <th>id</th>\n",
       "      <th>title</th>\n",
       "      <th>description</th>\n",
       "      <th>user_id</th>\n",
       "    </tr>\n",
       "  </thead>\n",
       "  <tbody>\n",
       "    <tr>\n",
       "      <th>0</th>\n",
       "      <td>1</td>\n",
       "      <td>Happy</td>\n",
       "      <td>I am feeling very happy today</td>\n",
       "      <td>1</td>\n",
       "    </tr>\n",
       "    <tr>\n",
       "      <th>1</th>\n",
       "      <td>2</td>\n",
       "      <td>Hot Weather</td>\n",
       "      <td>The weather is very hot today</td>\n",
       "      <td>2</td>\n",
       "    </tr>\n",
       "    <tr>\n",
       "      <th>2</th>\n",
       "      <td>3</td>\n",
       "      <td>Help</td>\n",
       "      <td>I need some help with my work</td>\n",
       "      <td>2</td>\n",
       "    </tr>\n",
       "    <tr>\n",
       "      <th>3</th>\n",
       "      <td>4</td>\n",
       "      <td>Great News</td>\n",
       "      <td>I am getting married</td>\n",
       "      <td>1</td>\n",
       "    </tr>\n",
       "    <tr>\n",
       "      <th>4</th>\n",
       "      <td>5</td>\n",
       "      <td>Interesting Game</td>\n",
       "      <td>It was a fantastic game of tennis</td>\n",
       "      <td>5</td>\n",
       "    </tr>\n",
       "    <tr>\n",
       "      <th>5</th>\n",
       "      <td>6</td>\n",
       "      <td>Party</td>\n",
       "      <td>Anyone up for a late-night party today?</td>\n",
       "      <td>3</td>\n",
       "    </tr>\n",
       "  </tbody>\n",
       "</table>\n",
       "</div>"
      ],
      "text/plain": [
       "   id             title                              description  user_id\n",
       "0   1             Happy            I am feeling very happy today        1\n",
       "1   2       Hot Weather            The weather is very hot today        2\n",
       "2   3              Help            I need some help with my work        2\n",
       "3   4        Great News                     I am getting married        1\n",
       "4   5  Interesting Game        It was a fantastic game of tennis        5\n",
       "5   6             Party  Anyone up for a late-night party today?        3"
      ]
     },
     "execution_count": 16,
     "metadata": {},
     "output_type": "execute_result"
    }
   ],
   "source": [
    "pd.read_sql(\"\"\"SELECT * FROM posts;\"\"\", connection)"
   ]
  },
  {
   "cell_type": "markdown",
   "id": "f73a1694-23d3-4569-821e-4b4e2be2a2be",
   "metadata": {},
   "source": [
    "#### Modificar\n",
    "\n",
    "> UPDATE tabla \\\n",
    "> SET col1 = valor, col2 = valor2, col5 = valor5 \\\n",
    "> WHERE condiciones;"
   ]
  },
  {
   "cell_type": "code",
   "execution_count": 17,
   "id": "471d97ea-99b7-41a8-ad52-7927c9fb1a88",
   "metadata": {},
   "outputs": [],
   "source": [
    "update_posts = \"\"\"\n",
    "UPDATE posts\n",
    "SET title = \"titulo modificado\", description = \"campo modificado tambien\"\n",
    "WHERE id = 2;\n",
    "\"\"\""
   ]
  },
  {
   "cell_type": "code",
   "execution_count": 18,
   "id": "f953f37a-f129-40c6-8c74-fe211aaa9275",
   "metadata": {},
   "outputs": [],
   "source": [
    "cursor.execute(update_posts)\n",
    "connection.commit()"
   ]
  },
  {
   "cell_type": "code",
   "execution_count": 19,
   "id": "614b0f18-e6ce-42e3-9a74-c56d5e391333",
   "metadata": {},
   "outputs": [
    {
     "data": {
      "text/html": [
       "<div>\n",
       "<style scoped>\n",
       "    .dataframe tbody tr th:only-of-type {\n",
       "        vertical-align: middle;\n",
       "    }\n",
       "\n",
       "    .dataframe tbody tr th {\n",
       "        vertical-align: top;\n",
       "    }\n",
       "\n",
       "    .dataframe thead th {\n",
       "        text-align: right;\n",
       "    }\n",
       "</style>\n",
       "<table border=\"1\" class=\"dataframe\">\n",
       "  <thead>\n",
       "    <tr style=\"text-align: right;\">\n",
       "      <th></th>\n",
       "      <th>id</th>\n",
       "      <th>title</th>\n",
       "      <th>description</th>\n",
       "      <th>user_id</th>\n",
       "    </tr>\n",
       "  </thead>\n",
       "  <tbody>\n",
       "    <tr>\n",
       "      <th>0</th>\n",
       "      <td>1</td>\n",
       "      <td>Happy</td>\n",
       "      <td>I am feeling very happy today</td>\n",
       "      <td>1</td>\n",
       "    </tr>\n",
       "    <tr>\n",
       "      <th>1</th>\n",
       "      <td>2</td>\n",
       "      <td>titulo modificado</td>\n",
       "      <td>campo modificado tambien</td>\n",
       "      <td>2</td>\n",
       "    </tr>\n",
       "    <tr>\n",
       "      <th>2</th>\n",
       "      <td>3</td>\n",
       "      <td>Help</td>\n",
       "      <td>I need some help with my work</td>\n",
       "      <td>2</td>\n",
       "    </tr>\n",
       "    <tr>\n",
       "      <th>3</th>\n",
       "      <td>4</td>\n",
       "      <td>Great News</td>\n",
       "      <td>I am getting married</td>\n",
       "      <td>1</td>\n",
       "    </tr>\n",
       "    <tr>\n",
       "      <th>4</th>\n",
       "      <td>5</td>\n",
       "      <td>Interesting Game</td>\n",
       "      <td>It was a fantastic game of tennis</td>\n",
       "      <td>5</td>\n",
       "    </tr>\n",
       "    <tr>\n",
       "      <th>5</th>\n",
       "      <td>6</td>\n",
       "      <td>Party</td>\n",
       "      <td>Anyone up for a late-night party today?</td>\n",
       "      <td>3</td>\n",
       "    </tr>\n",
       "  </tbody>\n",
       "</table>\n",
       "</div>"
      ],
      "text/plain": [
       "   id              title                              description  user_id\n",
       "0   1              Happy            I am feeling very happy today        1\n",
       "1   2  titulo modificado                 campo modificado tambien        2\n",
       "2   3               Help            I need some help with my work        2\n",
       "3   4         Great News                     I am getting married        1\n",
       "4   5   Interesting Game        It was a fantastic game of tennis        5\n",
       "5   6              Party  Anyone up for a late-night party today?        3"
      ]
     },
     "execution_count": 19,
     "metadata": {},
     "output_type": "execute_result"
    }
   ],
   "source": [
    "pd.read_sql(\"\"\"SELECT * FROM posts;\"\"\", connection)"
   ]
  },
  {
   "cell_type": "code",
   "execution_count": null,
   "id": "7e9ad6c8-5d24-46d7-8dfe-5cc613b54a00",
   "metadata": {},
   "outputs": [],
   "source": [
    "#update_posts = \"\"\"\n",
    "#UPDATE posts\n",
    "#SET title = \"titulo modificado\", description = \"campo modificado tambien\";\n",
    "#\"\"\"\n",
    "#cursor.execute(update_posts)\n",
    "#connection.commit()\n",
    "\n",
    "#pd.read_sql(\"\"\"SELECT * FROM posts;\"\"\", connection)"
   ]
  },
  {
   "cell_type": "code",
   "execution_count": 20,
   "id": "72f8ce39-13b3-4b57-9af9-a2fbb2726615",
   "metadata": {},
   "outputs": [],
   "source": [
    "update_users = \"\"\"\n",
    "UPDATE users\n",
    "SET age = age*10;\n",
    "\"\"\"\n",
    "cursor.execute(update_users)\n",
    "connection.commit()"
   ]
  },
  {
   "cell_type": "code",
   "execution_count": 21,
   "id": "76350a57-7908-4170-bce8-d0dffe778c9f",
   "metadata": {},
   "outputs": [
    {
     "data": {
      "text/html": [
       "<div>\n",
       "<style scoped>\n",
       "    .dataframe tbody tr th:only-of-type {\n",
       "        vertical-align: middle;\n",
       "    }\n",
       "\n",
       "    .dataframe tbody tr th {\n",
       "        vertical-align: top;\n",
       "    }\n",
       "\n",
       "    .dataframe thead th {\n",
       "        text-align: right;\n",
       "    }\n",
       "</style>\n",
       "<table border=\"1\" class=\"dataframe\">\n",
       "  <thead>\n",
       "    <tr style=\"text-align: right;\">\n",
       "      <th></th>\n",
       "      <th>id</th>\n",
       "      <th>name</th>\n",
       "      <th>age</th>\n",
       "      <th>gender</th>\n",
       "      <th>nationality</th>\n",
       "    </tr>\n",
       "  </thead>\n",
       "  <tbody>\n",
       "    <tr>\n",
       "      <th>0</th>\n",
       "      <td>1</td>\n",
       "      <td>James</td>\n",
       "      <td>250</td>\n",
       "      <td>male</td>\n",
       "      <td>USA</td>\n",
       "    </tr>\n",
       "    <tr>\n",
       "      <th>1</th>\n",
       "      <td>2</td>\n",
       "      <td>Leila</td>\n",
       "      <td>320</td>\n",
       "      <td>female</td>\n",
       "      <td>France</td>\n",
       "    </tr>\n",
       "    <tr>\n",
       "      <th>2</th>\n",
       "      <td>3</td>\n",
       "      <td>Brigitte</td>\n",
       "      <td>350</td>\n",
       "      <td>female</td>\n",
       "      <td>England</td>\n",
       "    </tr>\n",
       "    <tr>\n",
       "      <th>3</th>\n",
       "      <td>4</td>\n",
       "      <td>Mike</td>\n",
       "      <td>400</td>\n",
       "      <td>male</td>\n",
       "      <td>Denmark</td>\n",
       "    </tr>\n",
       "    <tr>\n",
       "      <th>4</th>\n",
       "      <td>5</td>\n",
       "      <td>Elizabeth</td>\n",
       "      <td>210</td>\n",
       "      <td>female</td>\n",
       "      <td>Canada</td>\n",
       "    </tr>\n",
       "  </tbody>\n",
       "</table>\n",
       "</div>"
      ],
      "text/plain": [
       "   id       name  age  gender nationality\n",
       "0   1      James  250    male         USA\n",
       "1   2      Leila  320  female      France\n",
       "2   3   Brigitte  350  female     England\n",
       "3   4       Mike  400    male     Denmark\n",
       "4   5  Elizabeth  210  female      Canada"
      ]
     },
     "execution_count": 21,
     "metadata": {},
     "output_type": "execute_result"
    }
   ],
   "source": [
    "pd.read_sql(\"\"\"SELECT * FROM users;\"\"\", connection)"
   ]
  },
  {
   "cell_type": "markdown",
   "id": "b965dbf9-3bed-4656-88db-17e99d253b7f",
   "metadata": {},
   "source": [
    "#### Eliminar\n",
    "\n",
    "> ALTER TABLE tabla \\\n",
    "> DROP COLUMN col4\n"
   ]
  },
  {
   "cell_type": "code",
   "execution_count": 22,
   "id": "888b7b8f-434d-41ae-85f3-ee4bc8b6ec15",
   "metadata": {},
   "outputs": [],
   "source": [
    "drop_users_age = \"\"\"\n",
    "ALTER TABLE users\n",
    "DROP COLUMN gender;\n",
    "\"\"\"\n",
    "\n",
    "cursor.execute(drop_users_age)\n",
    "connection.commit()"
   ]
  },
  {
   "cell_type": "code",
   "execution_count": 23,
   "id": "5622c7ab-8b46-4f75-829a-703380ae0ce3",
   "metadata": {},
   "outputs": [
    {
     "data": {
      "text/html": [
       "<div>\n",
       "<style scoped>\n",
       "    .dataframe tbody tr th:only-of-type {\n",
       "        vertical-align: middle;\n",
       "    }\n",
       "\n",
       "    .dataframe tbody tr th {\n",
       "        vertical-align: top;\n",
       "    }\n",
       "\n",
       "    .dataframe thead th {\n",
       "        text-align: right;\n",
       "    }\n",
       "</style>\n",
       "<table border=\"1\" class=\"dataframe\">\n",
       "  <thead>\n",
       "    <tr style=\"text-align: right;\">\n",
       "      <th></th>\n",
       "      <th>id</th>\n",
       "      <th>name</th>\n",
       "      <th>age</th>\n",
       "      <th>nationality</th>\n",
       "    </tr>\n",
       "  </thead>\n",
       "  <tbody>\n",
       "    <tr>\n",
       "      <th>0</th>\n",
       "      <td>1</td>\n",
       "      <td>James</td>\n",
       "      <td>250</td>\n",
       "      <td>USA</td>\n",
       "    </tr>\n",
       "    <tr>\n",
       "      <th>1</th>\n",
       "      <td>2</td>\n",
       "      <td>Leila</td>\n",
       "      <td>320</td>\n",
       "      <td>France</td>\n",
       "    </tr>\n",
       "    <tr>\n",
       "      <th>2</th>\n",
       "      <td>3</td>\n",
       "      <td>Brigitte</td>\n",
       "      <td>350</td>\n",
       "      <td>England</td>\n",
       "    </tr>\n",
       "    <tr>\n",
       "      <th>3</th>\n",
       "      <td>4</td>\n",
       "      <td>Mike</td>\n",
       "      <td>400</td>\n",
       "      <td>Denmark</td>\n",
       "    </tr>\n",
       "    <tr>\n",
       "      <th>4</th>\n",
       "      <td>5</td>\n",
       "      <td>Elizabeth</td>\n",
       "      <td>210</td>\n",
       "      <td>Canada</td>\n",
       "    </tr>\n",
       "  </tbody>\n",
       "</table>\n",
       "</div>"
      ],
      "text/plain": [
       "   id       name  age nationality\n",
       "0   1      James  250         USA\n",
       "1   2      Leila  320      France\n",
       "2   3   Brigitte  350     England\n",
       "3   4       Mike  400     Denmark\n",
       "4   5  Elizabeth  210      Canada"
      ]
     },
     "execution_count": 23,
     "metadata": {},
     "output_type": "execute_result"
    }
   ],
   "source": [
    "pd.read_sql(\"\"\"SELECT * FROM users;\"\"\", connection)"
   ]
  },
  {
   "cell_type": "code",
   "execution_count": null,
   "id": "f16a709f-5a8c-4adf-aa69-598c2a38010f",
   "metadata": {},
   "outputs": [],
   "source": []
  },
  {
   "cell_type": "markdown",
   "id": "63e8ddcf-c3db-4d1b-9cd0-7aca129bfb17",
   "metadata": {},
   "source": [
    "### Ejercicio: \n",
    "\n",
    "#### Eliminar los registros donde el nombre termina con la letra 'e'. "
   ]
  },
  {
   "cell_type": "code",
   "execution_count": 24,
   "id": "d15da9a5-754f-4b0f-b2c6-e108d454fa7a",
   "metadata": {},
   "outputs": [],
   "source": [
    "delete_registros = \"\"\"\n",
    "DELETE FROM users\n",
    "WHERE name LIKE '%e';\n",
    "\"\"\"\n",
    "\n",
    "cursor.execute(delete_registros)\n",
    "connection.commit()"
   ]
  },
  {
   "cell_type": "code",
   "execution_count": 25,
   "id": "9174c826-6c5f-4862-83bc-eb8be726a16f",
   "metadata": {},
   "outputs": [
    {
     "data": {
      "text/html": [
       "<div>\n",
       "<style scoped>\n",
       "    .dataframe tbody tr th:only-of-type {\n",
       "        vertical-align: middle;\n",
       "    }\n",
       "\n",
       "    .dataframe tbody tr th {\n",
       "        vertical-align: top;\n",
       "    }\n",
       "\n",
       "    .dataframe thead th {\n",
       "        text-align: right;\n",
       "    }\n",
       "</style>\n",
       "<table border=\"1\" class=\"dataframe\">\n",
       "  <thead>\n",
       "    <tr style=\"text-align: right;\">\n",
       "      <th></th>\n",
       "      <th>id</th>\n",
       "      <th>name</th>\n",
       "      <th>age</th>\n",
       "      <th>nationality</th>\n",
       "    </tr>\n",
       "  </thead>\n",
       "  <tbody>\n",
       "    <tr>\n",
       "      <th>0</th>\n",
       "      <td>1</td>\n",
       "      <td>James</td>\n",
       "      <td>250</td>\n",
       "      <td>USA</td>\n",
       "    </tr>\n",
       "    <tr>\n",
       "      <th>1</th>\n",
       "      <td>2</td>\n",
       "      <td>Leila</td>\n",
       "      <td>320</td>\n",
       "      <td>France</td>\n",
       "    </tr>\n",
       "    <tr>\n",
       "      <th>2</th>\n",
       "      <td>5</td>\n",
       "      <td>Elizabeth</td>\n",
       "      <td>210</td>\n",
       "      <td>Canada</td>\n",
       "    </tr>\n",
       "  </tbody>\n",
       "</table>\n",
       "</div>"
      ],
      "text/plain": [
       "   id       name  age nationality\n",
       "0   1      James  250         USA\n",
       "1   2      Leila  320      France\n",
       "2   5  Elizabeth  210      Canada"
      ]
     },
     "execution_count": 25,
     "metadata": {},
     "output_type": "execute_result"
    }
   ],
   "source": [
    "pd.read_sql(\"\"\"SELECT * FROM users;\"\"\", connection)"
   ]
  },
  {
   "cell_type": "markdown",
   "id": "355e4ee1-ea84-40ee-a75f-64c36dcbc87d",
   "metadata": {},
   "source": [
    "### Ejercicio: \n",
    "\n",
    "#### Investigar como añadir dos columnas nuevas a la tabla **users** \n",
    " 1) con valores 5*cualquier_OtraCol_numerica\n",
    " 2) valores de una columna de otra tabla"
   ]
  },
  {
   "cell_type": "code",
   "execution_count": 26,
   "id": "476976bb-fa7e-4c19-984f-57b70f15b237",
   "metadata": {},
   "outputs": [
    {
     "data": {
      "text/plain": [
       "<sqlite3.Cursor at 0x7f7cb2298810>"
      ]
     },
     "execution_count": 26,
     "metadata": {},
     "output_type": "execute_result"
    }
   ],
   "source": [
    "# sqlite no permite añadir multiple columnas de manera simultanea\n",
    "insert_cols = \"\"\"\n",
    "ALTER TABLE users\n",
    "ADD COLUMN new_local INTEGER;\n",
    "\"\"\"\n",
    "cursor.execute(insert_cols)\n",
    "\n",
    "insert_cols = \"\"\"\n",
    "ALTER TABLE users\n",
    "ADD COLUMN new_external VARCHAR(50);\n",
    "\"\"\"\n",
    "\n",
    "cursor.execute(insert_cols)"
   ]
  },
  {
   "cell_type": "code",
   "execution_count": 27,
   "id": "1409257d-f2aa-4108-9def-3ef0d5d41e83",
   "metadata": {},
   "outputs": [],
   "source": [
    "update_new_local = \"\"\"\n",
    "UPDATE users\n",
    "SET new_local = age*5;\n",
    "\"\"\"\n",
    "\n",
    "update_new_external = \"\"\"\n",
    "UPDATE users\n",
    "SET new_external = title\n",
    "FROM posts\n",
    "WHERE users.id = posts.user_id;\n",
    "\"\"\"\n",
    "\n",
    "cursor.execute(update_new_local)\n",
    "cursor.execute(update_new_external)\n",
    "connection.commit()"
   ]
  },
  {
   "cell_type": "code",
   "execution_count": 28,
   "id": "27ac612e-e337-4752-9d1b-1c165c115ef0",
   "metadata": {},
   "outputs": [
    {
     "data": {
      "text/html": [
       "<div>\n",
       "<style scoped>\n",
       "    .dataframe tbody tr th:only-of-type {\n",
       "        vertical-align: middle;\n",
       "    }\n",
       "\n",
       "    .dataframe tbody tr th {\n",
       "        vertical-align: top;\n",
       "    }\n",
       "\n",
       "    .dataframe thead th {\n",
       "        text-align: right;\n",
       "    }\n",
       "</style>\n",
       "<table border=\"1\" class=\"dataframe\">\n",
       "  <thead>\n",
       "    <tr style=\"text-align: right;\">\n",
       "      <th></th>\n",
       "      <th>id</th>\n",
       "      <th>name</th>\n",
       "      <th>age</th>\n",
       "      <th>nationality</th>\n",
       "      <th>new_local</th>\n",
       "      <th>new_external</th>\n",
       "    </tr>\n",
       "  </thead>\n",
       "  <tbody>\n",
       "    <tr>\n",
       "      <th>0</th>\n",
       "      <td>1</td>\n",
       "      <td>James</td>\n",
       "      <td>250</td>\n",
       "      <td>USA</td>\n",
       "      <td>1250</td>\n",
       "      <td>Great News</td>\n",
       "    </tr>\n",
       "    <tr>\n",
       "      <th>1</th>\n",
       "      <td>2</td>\n",
       "      <td>Leila</td>\n",
       "      <td>320</td>\n",
       "      <td>France</td>\n",
       "      <td>1600</td>\n",
       "      <td>Help</td>\n",
       "    </tr>\n",
       "    <tr>\n",
       "      <th>2</th>\n",
       "      <td>5</td>\n",
       "      <td>Elizabeth</td>\n",
       "      <td>210</td>\n",
       "      <td>Canada</td>\n",
       "      <td>1050</td>\n",
       "      <td>Interesting Game</td>\n",
       "    </tr>\n",
       "  </tbody>\n",
       "</table>\n",
       "</div>"
      ],
      "text/plain": [
       "   id       name  age nationality  new_local      new_external\n",
       "0   1      James  250         USA       1250        Great News\n",
       "1   2      Leila  320      France       1600              Help\n",
       "2   5  Elizabeth  210      Canada       1050  Interesting Game"
      ]
     },
     "execution_count": 28,
     "metadata": {},
     "output_type": "execute_result"
    }
   ],
   "source": [
    "pd.read_sql(\"\"\"SELECT * FROM users;\"\"\", connection)"
   ]
  },
  {
   "cell_type": "code",
   "execution_count": null,
   "id": "afab57e7-2239-480d-9056-8b77096e55ce",
   "metadata": {},
   "outputs": [],
   "source": []
  }
 ],
 "metadata": {
  "kernelspec": {
   "display_name": "Python 3",
   "language": "python",
   "name": "python3"
  },
  "language_info": {
   "codemirror_mode": {
    "name": "ipython",
    "version": 3
   },
   "file_extension": ".py",
   "mimetype": "text/x-python",
   "name": "python",
   "nbconvert_exporter": "python",
   "pygments_lexer": "ipython3",
   "version": "3.8.13"
  }
 },
 "nbformat": 4,
 "nbformat_minor": 5
}
