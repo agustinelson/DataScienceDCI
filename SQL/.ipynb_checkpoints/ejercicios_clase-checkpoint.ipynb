{
 "cells": [
  {
   "cell_type": "code",
   "execution_count": null,
   "id": "f61c67cc-ffe6-4cbb-ab4b-b5fa14f53f0a",
   "metadata": {},
   "outputs": [],
   "source": [
    "# ejercicio 1\n",
    "\n",
    "delete_registros = \"\"\"\n",
    "DELETE FROM users\n",
    "WHERE name LIKE '%e';\n",
    "\"\"\""
   ]
  },
  {
   "cell_type": "code",
   "execution_count": null,
   "id": "23630313-b5ef-4404-8387-fe72dd5183c5",
   "metadata": {},
   "outputs": [],
   "source": [
    "# ejercicio 2\n",
    "\n",
    "# sqlite no permite añadir multiple columnas de manera simultanea\n",
    "insert_cols = \"\"\"\n",
    "ALTER TABLE users\n",
    "ADD COLUMN new_local INTEGER;\n",
    "\"\"\"\n",
    "cursor.execute(insert_cols)\n",
    "connection.commit()\n",
    "\n",
    "\n",
    "insert_cols = \"\"\"\n",
    "ALTER TABLE users\n",
    "ADD COLUMN new_external VARCHAR(50);\n",
    "\"\"\"\n",
    "\n",
    "cursor.execute(insert_cols)\n",
    "connection.commit()"
   ]
  },
  {
   "cell_type": "code",
   "execution_count": null,
   "id": "71f253f3-b5b2-4b5c-8161-6d8dc2788d28",
   "metadata": {},
   "outputs": [],
   "source": [
    "update_new_local = \"\"\"\n",
    "UPDATE users\n",
    "SET new_local = age*5;\n",
    "\"\"\"\n",
    "\n",
    "update_new_external = \"\"\"\n",
    "UPDATE users\n",
    "SET new_external = title\n",
    "FROM posts\n",
    "WHERE users.id = posts.user_id;\n",
    "\"\"\"\n",
    "\n",
    "cursor.execute(update_new_local)\n",
    "cursor.execute(update_new_external)\n",
    "connection.commit()"
   ]
  },
  {
   "cell_type": "markdown",
   "id": "31cab901-2054-4125-9a04-fb7509c9b1db",
   "metadata": {},
   "source": [
    "## Aplicar las instrucciones vistas con la siguiente base de datos:\n",
    "\n",
    "[kaggle](https://www.kaggle.com/datasets/johnp47/sql-murder-mystery-database?resource=download)\n",
    "\n",
    "[mi_drp](https://www.dropbox.com/s/e6057bt5rxjpg6h/sql-murder-mystery.db?dl=0)"
   ]
  },
  {
   "cell_type": "code",
   "execution_count": null,
   "id": "009068d5-a652-4841-9f21-790632a421a3",
   "metadata": {},
   "outputs": [],
   "source": [
    "conn = sqlite3.connect('sql-murder-mystery.db')\n",
    "pd.read_sql(\"\"\"SELECT * FROM sqlite_master\n",
    "                        WHERE type='table';\"\"\", conn)"
   ]
  }
 ],
 "metadata": {
  "kernelspec": {
   "display_name": "Python 3",
   "language": "python",
   "name": "python3"
  },
  "language_info": {
   "codemirror_mode": {
    "name": "ipython",
    "version": 3
   },
   "file_extension": ".py",
   "mimetype": "text/x-python",
   "name": "python",
   "nbconvert_exporter": "python",
   "pygments_lexer": "ipython3",
   "version": "3.8.13"
  }
 },
 "nbformat": 4,
 "nbformat_minor": 5
}
