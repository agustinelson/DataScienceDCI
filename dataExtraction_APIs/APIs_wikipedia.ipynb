{
 "cells": [
  {
   "cell_type": "markdown",
   "id": "c8740324-40c0-4204-a77e-94c41a40e696",
   "metadata": {},
   "source": [
    "## Extracción de datos de Wikipedia a través de una API\n",
    "\n",
    "[documentacion](https://www.mediawiki.org/wiki/API:Main_page)\n",
    "\n",
    "#### _[This page is intended for technical contributors and software developers...]_ \n",
    "\n",
    "----"
   ]
  },
  {
   "cell_type": "code",
   "execution_count": 1,
   "id": "f0df53f2-1583-467f-bada-085aeea2b487",
   "metadata": {},
   "outputs": [],
   "source": [
    "import requests\n",
    "import pandas as pd"
   ]
  },
  {
   "cell_type": "markdown",
   "id": "332c7018-d8a7-4d77-9d01-d5d0fd09c3fc",
   "metadata": {},
   "source": [
    "### Búsqueda por título"
   ]
  },
  {
   "cell_type": "code",
   "execution_count": 2,
   "id": "28b2e539-7f9b-48cf-a251-79ce30e6a77b",
   "metadata": {},
   "outputs": [
    {
     "data": {
      "text/plain": [
       "200"
      ]
     },
     "execution_count": 2,
     "metadata": {},
     "output_type": "execute_result"
    }
   ],
   "source": [
    "url = 'https://en.wikipedia.org/w/api.php?action=query&format=json&titles=Xoloitzcuintle&prop=extracts'\n",
    "\n",
    "request_wiki = requests.get(url)\n",
    "\n",
    "request_wiki.status_code"
   ]
  },
  {
   "cell_type": "code",
   "execution_count": 3,
   "id": "6f351cfa-9833-49aa-8ad0-592d1a5de7bf",
   "metadata": {},
   "outputs": [
    {
     "data": {
      "text/plain": [
       "dict_keys(['batchcomplete', 'warnings', 'query'])"
      ]
     },
     "execution_count": 3,
     "metadata": {},
     "output_type": "execute_result"
    }
   ],
   "source": [
    "request_wiki.json().keys()"
   ]
  },
  {
   "cell_type": "code",
   "execution_count": 4,
   "id": "5b81977e-5517-46fa-809b-ef4cf2ea7932",
   "metadata": {},
   "outputs": [],
   "source": [
    "#request_wiki.json()['query']"
   ]
  },
  {
   "cell_type": "code",
   "execution_count": 5,
   "id": "6ef70309-f1ca-4f69-95f7-e1d121e1c13e",
   "metadata": {},
   "outputs": [
    {
     "data": {
      "text/plain": [
       "dict_keys(['pages'])"
      ]
     },
     "execution_count": 5,
     "metadata": {},
     "output_type": "execute_result"
    }
   ],
   "source": [
    "request_wiki.json()['query'].keys()"
   ]
  },
  {
   "cell_type": "code",
   "execution_count": 6,
   "id": "16ef63eb-83ae-42ee-a27f-f6aa8dd62f79",
   "metadata": {},
   "outputs": [
    {
     "data": {
      "text/plain": [
       "dict_keys(['243549'])"
      ]
     },
     "execution_count": 6,
     "metadata": {},
     "output_type": "execute_result"
    }
   ],
   "source": [
    "request_wiki.json()['query']['pages'].keys()"
   ]
  },
  {
   "cell_type": "code",
   "execution_count": 7,
   "id": "45b3c367-8023-4288-ae9d-5cc564287c7e",
   "metadata": {},
   "outputs": [
    {
     "data": {
      "text/plain": [
       "dict_keys(['pageid', 'ns', 'title', 'extract'])"
      ]
     },
     "execution_count": 7,
     "metadata": {},
     "output_type": "execute_result"
    }
   ],
   "source": [
    "request_wiki.json()['query']['pages']['243549'].keys()"
   ]
  },
  {
   "cell_type": "code",
   "execution_count": 8,
   "id": "0b99614c-7c00-4c16-b157-bb0c46848c3c",
   "metadata": {},
   "outputs": [],
   "source": [
    "#request_wiki.json()['query']['pages']['243549']"
   ]
  },
  {
   "cell_type": "code",
   "execution_count": 9,
   "id": "0eb91ca6-ecba-40ab-a4b7-8b3951ec6d50",
   "metadata": {},
   "outputs": [],
   "source": [
    "df = pd.json_normalize(request_wiki.json()['query'])"
   ]
  },
  {
   "cell_type": "code",
   "execution_count": 10,
   "id": "93d8dd24-108f-4260-89d4-bb76b39ec237",
   "metadata": {},
   "outputs": [],
   "source": [
    "df = pd.json_normalize(request_wiki.json()['query']['pages'])"
   ]
  },
  {
   "cell_type": "code",
   "execution_count": 11,
   "id": "ad4a8ee0-6aa2-4272-8e68-d2b10134617f",
   "metadata": {},
   "outputs": [
    {
     "data": {
      "text/html": [
       "<div>\n",
       "<style scoped>\n",
       "    .dataframe tbody tr th:only-of-type {\n",
       "        vertical-align: middle;\n",
       "    }\n",
       "\n",
       "    .dataframe tbody tr th {\n",
       "        vertical-align: top;\n",
       "    }\n",
       "\n",
       "    .dataframe thead th {\n",
       "        text-align: right;\n",
       "    }\n",
       "</style>\n",
       "<table border=\"1\" class=\"dataframe\">\n",
       "  <thead>\n",
       "    <tr style=\"text-align: right;\">\n",
       "      <th></th>\n",
       "      <th>pageid</th>\n",
       "      <th>ns</th>\n",
       "      <th>title</th>\n",
       "      <th>extract</th>\n",
       "    </tr>\n",
       "  </thead>\n",
       "  <tbody>\n",
       "    <tr>\n",
       "      <th>0</th>\n",
       "      <td>243549</td>\n",
       "      <td>0</td>\n",
       "      <td>Xoloitzcuintle</td>\n",
       "      <td>&lt;p&gt;The &lt;b&gt;Xoloitzcuintle&lt;/b&gt; (or &lt;b&gt;Xoloitzqui...</td>\n",
       "    </tr>\n",
       "  </tbody>\n",
       "</table>\n",
       "</div>"
      ],
      "text/plain": [
       "   pageid  ns           title  \\\n",
       "0  243549   0  Xoloitzcuintle   \n",
       "\n",
       "                                             extract  \n",
       "0  <p>The <b>Xoloitzcuintle</b> (or <b>Xoloitzqui...  "
      ]
     },
     "execution_count": 11,
     "metadata": {},
     "output_type": "execute_result"
    }
   ],
   "source": [
    "df = pd.json_normalize(request_wiki.json()['query']['pages']['243549'])\n",
    "df"
   ]
  },
  {
   "cell_type": "code",
   "execution_count": 12,
   "id": "70987945-ccac-4c81-b22d-58f65bd2f37f",
   "metadata": {},
   "outputs": [],
   "source": [
    "#df['extract'][0]"
   ]
  },
  {
   "cell_type": "code",
   "execution_count": 13,
   "id": "6e17e2d9-018a-4b6b-82e1-13fec5011330",
   "metadata": {},
   "outputs": [],
   "source": [
    "#df = pd.json_normalize(request_wiki.json()['query'])\n",
    "#df['pages.243549.extract'][0]"
   ]
  },
  {
   "cell_type": "code",
   "execution_count": 14,
   "id": "3bc3b30d-f8b4-4f9d-90cb-d66419763dc4",
   "metadata": {},
   "outputs": [
    {
     "data": {
      "text/plain": [
       "200"
      ]
     },
     "execution_count": 14,
     "metadata": {},
     "output_type": "execute_result"
    }
   ],
   "source": [
    "buscar_titulo = 'Xoloitzcuintle'\n",
    " \n",
    "#endpoint = 'https://es.wikipedia.org/w/api.php'\n",
    "endpoint = 'https://en.wikipedia.org/w/api.php'\n",
    "\n",
    "params = {\n",
    "            'action' : 'query',\n",
    "            'format' : 'json',\n",
    "            'titles' : buscar_titulo, \n",
    "            'prop' : 'extracts'\n",
    "        }\n",
    "\n",
    "request2_wiki = requests.get(endpoint, params=params)\n",
    "\n",
    "request2_wiki.status_code"
   ]
  },
  {
   "cell_type": "code",
   "execution_count": 15,
   "id": "145eb65c-1c77-45da-8ceb-e714533bb299",
   "metadata": {},
   "outputs": [],
   "source": [
    "#request2_wiki.json()['query']"
   ]
  },
  {
   "cell_type": "code",
   "execution_count": 16,
   "id": "18c76984-5adb-49c4-b125-a1a4183fc648",
   "metadata": {},
   "outputs": [],
   "source": [
    "df = pd.json_normalize(request2_wiki.json()['query'])\n",
    "#df['pages.243549.extract'][0]"
   ]
  },
  {
   "cell_type": "markdown",
   "id": "a3dc0bc9-f9f8-4326-81ed-1d68ebe79c14",
   "metadata": {},
   "source": [
    "Restringir la búsqueda:\n",
    "- exintro : solo el resumen\n",
    "- exchars : número de caracteres\n",
    "- exsentences : número de oraciones\n",
    "- explaintext : texto plano (no HTML)"
   ]
  },
  {
   "cell_type": "code",
   "execution_count": 17,
   "id": "bcb36c87-e5ce-404e-9af7-80c2808ef515",
   "metadata": {},
   "outputs": [
    {
     "data": {
      "text/plain": [
       "200"
      ]
     },
     "execution_count": 17,
     "metadata": {},
     "output_type": "execute_result"
    }
   ],
   "source": [
    "buscar_titulo = 'Xoloitzcuintle'\n",
    " \n",
    "#endpoint = 'https://es.wikipedia.org/w/api.php'\n",
    "endpoint = 'https://en.wikipedia.org/w/api.php'\n",
    "\n",
    "\n",
    "params = {\n",
    "            'action' : 'query',\n",
    "            'format' : 'json',\n",
    "            'titles' : buscar_titulo, \n",
    "            'prop' : 'extracts',\n",
    "            'exintro': True,\n",
    "            'explaintext': True\n",
    "        }\n",
    "\n",
    "request3_wiki = requests.get(endpoint, params=params)\n",
    "\n",
    "request3_wiki.status_code"
   ]
  },
  {
   "cell_type": "code",
   "execution_count": 18,
   "id": "049a9640-cb6f-44f9-8445-c2e6df4e5937",
   "metadata": {},
   "outputs": [],
   "source": [
    "df = pd.json_normalize(request3_wiki.json()['query'])\n",
    "resumen_xolo = df['pages.243549.extract'][0]"
   ]
  },
  {
   "cell_type": "code",
   "execution_count": 19,
   "id": "3f1dea1b-9588-4e33-b918-8da835563144",
   "metadata": {},
   "outputs": [
    {
     "data": {
      "text/plain": [
       "\"The Xoloitzcuintle (or Xoloitzquintle, Xoloitzcuintli, or Xolo) is one of several breeds of hairless dog. It is found in standard, intermediate, and miniature sizes. The Xolo also comes in a coated variety, totally covered in fur. Coated and hairless can be born in the same litter as a result of the same combination of genes. The hairless variant is known as the Perro pelón mexicano or Mexican hairless dog. It is characterized by its duality, wrinkles, and dental abnormalities, along with a primitive temper. In Nahuatl, from which its name originates, it is xōlōitzcuintli [ʃoːloːit͡sˈkʷint͡ɬi] (singular) and xōlōitzcuintin [ʃoːloːit͡sˈkʷintin] (plural). The name comes from the god Xolotl that, according to ancient narratives, is its creator and itzcuīntli [it͡sˈkʷiːnt͡ɬi], meaning 'dog' in the Nahuatl language.\\n\\n\""
      ]
     },
     "execution_count": 19,
     "metadata": {},
     "output_type": "execute_result"
    }
   ],
   "source": [
    "resumen_xolo"
   ]
  },
  {
   "cell_type": "markdown",
   "id": "ca272a02-2cd8-4379-ad89-5a0557df85df",
   "metadata": {},
   "source": [
    "---\n",
    "### Búsqueda por palabra en título"
   ]
  },
  {
   "cell_type": "code",
   "execution_count": 20,
   "id": "d9358990-1ba5-43e3-9146-858f16f1ab85",
   "metadata": {},
   "outputs": [
    {
     "data": {
      "text/plain": [
       "200"
      ]
     },
     "execution_count": 20,
     "metadata": {},
     "output_type": "execute_result"
    }
   ],
   "source": [
    "buscar_en_titulo = 'Leon'\n",
    " \n",
    "endpoint = 'https://es.wikipedia.org/w/api.php'\n",
    "\n",
    "params = {\n",
    "            'action' : 'query',\n",
    "            'format' : 'json',\n",
    "            'list':'search',\n",
    "            'srsearch' : buscar_en_titulo\n",
    "        }\n",
    "\n",
    "request4_wiki = requests.get(endpoint, params=params)\n",
    "\n",
    "request4_wiki.status_code"
   ]
  },
  {
   "cell_type": "code",
   "execution_count": 21,
   "id": "125a0238-39d4-46dd-ac39-73abbd3ff017",
   "metadata": {},
   "outputs": [
    {
     "data": {
      "text/html": [
       "<div>\n",
       "<style scoped>\n",
       "    .dataframe tbody tr th:only-of-type {\n",
       "        vertical-align: middle;\n",
       "    }\n",
       "\n",
       "    .dataframe tbody tr th {\n",
       "        vertical-align: top;\n",
       "    }\n",
       "\n",
       "    .dataframe thead th {\n",
       "        text-align: right;\n",
       "    }\n",
       "</style>\n",
       "<table border=\"1\" class=\"dataframe\">\n",
       "  <thead>\n",
       "    <tr style=\"text-align: right;\">\n",
       "      <th></th>\n",
       "      <th>ns</th>\n",
       "      <th>title</th>\n",
       "      <th>pageid</th>\n",
       "      <th>size</th>\n",
       "      <th>wordcount</th>\n",
       "      <th>snippet</th>\n",
       "      <th>timestamp</th>\n",
       "    </tr>\n",
       "  </thead>\n",
       "  <tbody>\n",
       "    <tr>\n",
       "      <th>0</th>\n",
       "      <td>0</td>\n",
       "      <td>LEON</td>\n",
       "      <td>766618</td>\n",
       "      <td>1824</td>\n",
       "      <td>161</td>\n",
       "      <td>&lt;span class=\"searchmatch\"&gt;LEON&lt;/span&gt; es un nú...</td>\n",
       "      <td>2022-12-13T14:18:14Z</td>\n",
       "    </tr>\n",
       "    <tr>\n",
       "      <th>1</th>\n",
       "      <td>0</td>\n",
       "      <td>Panthera leo</td>\n",
       "      <td>25116</td>\n",
       "      <td>146793</td>\n",
       "      <td>17903</td>\n",
       "      <td>El &lt;span class=\"searchmatch\"&gt;león&lt;/span&gt; (Pant...</td>\n",
       "      <td>2023-04-25T08:50:13Z</td>\n",
       "    </tr>\n",
       "    <tr>\n",
       "      <th>2</th>\n",
       "      <td>0</td>\n",
       "      <td>Léon</td>\n",
       "      <td>232172</td>\n",
       "      <td>31324</td>\n",
       "      <td>3716</td>\n",
       "      <td>&lt;span class=\"searchmatch\"&gt;Léon&lt;/span&gt;, también...</td>\n",
       "      <td>2023-03-04T18:05:25Z</td>\n",
       "    </tr>\n",
       "    <tr>\n",
       "      <th>3</th>\n",
       "      <td>0</td>\n",
       "      <td>León (España)</td>\n",
       "      <td>3341</td>\n",
       "      <td>233782</td>\n",
       "      <td>25540</td>\n",
       "      <td>&lt;span class=\"searchmatch\"&gt;León&lt;/span&gt; (en &lt;spa...</td>\n",
       "      <td>2023-04-26T19:37:44Z</td>\n",
       "    </tr>\n",
       "    <tr>\n",
       "      <th>4</th>\n",
       "      <td>0</td>\n",
       "      <td>Castilla y León</td>\n",
       "      <td>485</td>\n",
       "      <td>194246</td>\n",
       "      <td>20428</td>\n",
       "      <td>Castilla y &lt;span class=\"searchmatch\"&gt;León&lt;/spa...</td>\n",
       "      <td>2023-04-29T10:02:47Z</td>\n",
       "    </tr>\n",
       "    <tr>\n",
       "      <th>5</th>\n",
       "      <td>0</td>\n",
       "      <td>León (heráldica)</td>\n",
       "      <td>1743552</td>\n",
       "      <td>18355</td>\n",
       "      <td>949</td>\n",
       "      <td>En Heráldica el &lt;span class=\"searchmatch\"&gt;León...</td>\n",
       "      <td>2023-05-01T17:22:17Z</td>\n",
       "    </tr>\n",
       "    <tr>\n",
       "      <th>6</th>\n",
       "      <td>0</td>\n",
       "      <td>Nuevo León</td>\n",
       "      <td>25593</td>\n",
       "      <td>119632</td>\n",
       "      <td>9564</td>\n",
       "      <td>Nuevo &lt;span class=\"searchmatch\"&gt;León&lt;/span&gt; ( ...</td>\n",
       "      <td>2023-04-25T03:30:11Z</td>\n",
       "    </tr>\n",
       "    <tr>\n",
       "      <th>7</th>\n",
       "      <td>0</td>\n",
       "      <td>Provincia de León</td>\n",
       "      <td>23530</td>\n",
       "      <td>161746</td>\n",
       "      <td>16488</td>\n",
       "      <td>&lt;span class=\"searchmatch\"&gt;León&lt;/span&gt; (en &lt;spa...</td>\n",
       "      <td>2023-04-08T08:59:03Z</td>\n",
       "    </tr>\n",
       "    <tr>\n",
       "      <th>8</th>\n",
       "      <td>0</td>\n",
       "      <td>Reino de León</td>\n",
       "      <td>41339</td>\n",
       "      <td>32095</td>\n",
       "      <td>3709</td>\n",
       "      <td>El reino de &lt;span class=\"searchmatch\"&gt;León&lt;/sp...</td>\n",
       "      <td>2023-04-27T03:14:13Z</td>\n",
       "    </tr>\n",
       "    <tr>\n",
       "      <th>9</th>\n",
       "      <td>0</td>\n",
       "      <td>León de Los Aldama</td>\n",
       "      <td>66887</td>\n",
       "      <td>162208</td>\n",
       "      <td>20499</td>\n",
       "      <td>&lt;span class=\"searchmatch\"&gt;León&lt;/span&gt; de los A...</td>\n",
       "      <td>2023-04-26T14:12:31Z</td>\n",
       "    </tr>\n",
       "  </tbody>\n",
       "</table>\n",
       "</div>"
      ],
      "text/plain": [
       "   ns               title   pageid    size  wordcount  \\\n",
       "0   0                LEON   766618    1824        161   \n",
       "1   0        Panthera leo    25116  146793      17903   \n",
       "2   0                Léon   232172   31324       3716   \n",
       "3   0       León (España)     3341  233782      25540   \n",
       "4   0     Castilla y León      485  194246      20428   \n",
       "5   0    León (heráldica)  1743552   18355        949   \n",
       "6   0          Nuevo León    25593  119632       9564   \n",
       "7   0   Provincia de León    23530  161746      16488   \n",
       "8   0       Reino de León    41339   32095       3709   \n",
       "9   0  León de Los Aldama    66887  162208      20499   \n",
       "\n",
       "                                             snippet             timestamp  \n",
       "0  <span class=\"searchmatch\">LEON</span> es un nú...  2022-12-13T14:18:14Z  \n",
       "1  El <span class=\"searchmatch\">león</span> (Pant...  2023-04-25T08:50:13Z  \n",
       "2  <span class=\"searchmatch\">Léon</span>, también...  2023-03-04T18:05:25Z  \n",
       "3  <span class=\"searchmatch\">León</span> (en <spa...  2023-04-26T19:37:44Z  \n",
       "4  Castilla y <span class=\"searchmatch\">León</spa...  2023-04-29T10:02:47Z  \n",
       "5  En Heráldica el <span class=\"searchmatch\">León...  2023-05-01T17:22:17Z  \n",
       "6  Nuevo <span class=\"searchmatch\">León</span> ( ...  2023-04-25T03:30:11Z  \n",
       "7  <span class=\"searchmatch\">León</span> (en <spa...  2023-04-08T08:59:03Z  \n",
       "8  El reino de <span class=\"searchmatch\">León</sp...  2023-04-27T03:14:13Z  \n",
       "9  <span class=\"searchmatch\">León</span> de los A...  2023-04-26T14:12:31Z  "
      ]
     },
     "execution_count": 21,
     "metadata": {},
     "output_type": "execute_result"
    }
   ],
   "source": [
    "#request4_wiki.json()['query']['search']\n",
    "df = pd.json_normalize(request4_wiki.json()['query']['search'])\n",
    "df"
   ]
  },
  {
   "cell_type": "markdown",
   "id": "54bec3db-a7af-491d-bb69-4a897928e35e",
   "metadata": {},
   "source": [
    "---\n",
    "---\n",
    "\n",
    "### [REST API](https://www.mediawiki.org/wiki/API:REST_API/Reference#Python_3)"
   ]
  },
  {
   "cell_type": "code",
   "execution_count": 22,
   "id": "9b64c8b4-e96b-4f2d-a36d-5b563c496cb1",
   "metadata": {},
   "outputs": [
    {
     "data": {
      "text/plain": [
       "200"
      ]
     },
     "execution_count": 22,
     "metadata": {},
     "output_type": "execute_result"
    }
   ],
   "source": [
    "buscar_en_titulo = 'Leon'\n",
    " \n",
    "endpoint = 'https://es.wikipedia.org/w/rest.php/v1/search/title'\n",
    "\n",
    "params = {\n",
    "            'q' : buscar_en_titulo,\n",
    "            'limit': 10\n",
    "        }\n",
    "\n",
    "request5_wiki = requests.get(endpoint, params=params)\n",
    "\n",
    "request5_wiki.status_code"
   ]
  },
  {
   "cell_type": "code",
   "execution_count": 23,
   "id": "44265df7-840d-4485-9bd7-af9bca330a7f",
   "metadata": {},
   "outputs": [
    {
     "data": {
      "text/html": [
       "<div>\n",
       "<style scoped>\n",
       "    .dataframe tbody tr th:only-of-type {\n",
       "        vertical-align: middle;\n",
       "    }\n",
       "\n",
       "    .dataframe tbody tr th {\n",
       "        vertical-align: top;\n",
       "    }\n",
       "\n",
       "    .dataframe thead th {\n",
       "        text-align: right;\n",
       "    }\n",
       "</style>\n",
       "<table border=\"1\" class=\"dataframe\">\n",
       "  <thead>\n",
       "    <tr style=\"text-align: right;\">\n",
       "      <th></th>\n",
       "      <th>id</th>\n",
       "      <th>key</th>\n",
       "      <th>title</th>\n",
       "      <th>excerpt</th>\n",
       "      <th>matched_title</th>\n",
       "      <th>description</th>\n",
       "      <th>thumbnail.mimetype</th>\n",
       "      <th>thumbnail.size</th>\n",
       "      <th>thumbnail.width</th>\n",
       "      <th>thumbnail.height</th>\n",
       "      <th>thumbnail.duration</th>\n",
       "      <th>thumbnail.url</th>\n",
       "    </tr>\n",
       "  </thead>\n",
       "  <tbody>\n",
       "    <tr>\n",
       "      <th>0</th>\n",
       "      <td>25116</td>\n",
       "      <td>Panthera_leo</td>\n",
       "      <td>Panthera leo</td>\n",
       "      <td>Leon</td>\n",
       "      <td>Leon</td>\n",
       "      <td>mamífero carnívoro de la familia de los félidos</td>\n",
       "      <td>image/jpeg</td>\n",
       "      <td>None</td>\n",
       "      <td>60</td>\n",
       "      <td>45</td>\n",
       "      <td>None</td>\n",
       "      <td>//upload.wikimedia.org/wikipedia/commons/thumb...</td>\n",
       "    </tr>\n",
       "    <tr>\n",
       "      <th>1</th>\n",
       "      <td>7236</td>\n",
       "      <td>Leonardo_da_Vinci</td>\n",
       "      <td>Leonardo da Vinci</td>\n",
       "      <td>Leonardo da Vinci</td>\n",
       "      <td>None</td>\n",
       "      <td>polímata italiano</td>\n",
       "      <td>image/jpeg</td>\n",
       "      <td>None</td>\n",
       "      <td>60</td>\n",
       "      <td>94</td>\n",
       "      <td>None</td>\n",
       "      <td>//upload.wikimedia.org/wikipedia/commons/thumb...</td>\n",
       "    </tr>\n",
       "    <tr>\n",
       "      <th>2</th>\n",
       "      <td>7057</td>\n",
       "      <td>Leonhard_Euler</td>\n",
       "      <td>Leonhard Euler</td>\n",
       "      <td>Leonhard Euler</td>\n",
       "      <td>None</td>\n",
       "      <td>matemático nacido en Suiza</td>\n",
       "      <td>image/jpeg</td>\n",
       "      <td>None</td>\n",
       "      <td>60</td>\n",
       "      <td>75</td>\n",
       "      <td>None</td>\n",
       "      <td>//upload.wikimedia.org/wikipedia/commons/thumb...</td>\n",
       "    </tr>\n",
       "    <tr>\n",
       "      <th>3</th>\n",
       "      <td>218655</td>\n",
       "      <td>Leonardo_DiCaprio</td>\n",
       "      <td>Leonardo DiCaprio</td>\n",
       "      <td>Leonardo DiCaprio</td>\n",
       "      <td>None</td>\n",
       "      <td>actor y productor cinematográfico estadounidense</td>\n",
       "      <td>image/jpeg</td>\n",
       "      <td>None</td>\n",
       "      <td>60</td>\n",
       "      <td>95</td>\n",
       "      <td>None</td>\n",
       "      <td>//upload.wikimedia.org/wikipedia/commons/thumb...</td>\n",
       "    </tr>\n",
       "    <tr>\n",
       "      <th>4</th>\n",
       "      <td>74170</td>\n",
       "      <td>Leonid_Brézhnev</td>\n",
       "      <td>Leonid Brézhnev</td>\n",
       "      <td>Leonid Brézhnev</td>\n",
       "      <td>None</td>\n",
       "      <td>político soviético</td>\n",
       "      <td>image/jpeg</td>\n",
       "      <td>None</td>\n",
       "      <td>60</td>\n",
       "      <td>84</td>\n",
       "      <td>None</td>\n",
       "      <td>//upload.wikimedia.org/wikipedia/commons/thumb...</td>\n",
       "    </tr>\n",
       "    <tr>\n",
       "      <th>5</th>\n",
       "      <td>66278</td>\n",
       "      <td>Leonel_Fernández</td>\n",
       "      <td>Leonel Fernández</td>\n",
       "      <td>Leonel Fernández</td>\n",
       "      <td>None</td>\n",
       "      <td>político, escritor y abogado dominicano</td>\n",
       "      <td>image/jpeg</td>\n",
       "      <td>None</td>\n",
       "      <td>60</td>\n",
       "      <td>76</td>\n",
       "      <td>None</td>\n",
       "      <td>//upload.wikimedia.org/wikipedia/commons/thumb...</td>\n",
       "    </tr>\n",
       "    <tr>\n",
       "      <th>6</th>\n",
       "      <td>220964</td>\n",
       "      <td>Leonor_de_Borbón</td>\n",
       "      <td>Leonor de Borbón</td>\n",
       "      <td>Leonor de Borbón</td>\n",
       "      <td>None</td>\n",
       "      <td>XXXVII Princesa de Asturias (2014-presente).</td>\n",
       "      <td>image/jpeg</td>\n",
       "      <td>None</td>\n",
       "      <td>60</td>\n",
       "      <td>80</td>\n",
       "      <td>None</td>\n",
       "      <td>//upload.wikimedia.org/wikipedia/commons/thumb...</td>\n",
       "    </tr>\n",
       "    <tr>\n",
       "      <th>7</th>\n",
       "      <td>468925</td>\n",
       "      <td>Leonardo_Favio</td>\n",
       "      <td>Leonardo Favio</td>\n",
       "      <td>Leonardo Favio</td>\n",
       "      <td>None</td>\n",
       "      <td>artista argentino</td>\n",
       "      <td>image/jpeg</td>\n",
       "      <td>None</td>\n",
       "      <td>60</td>\n",
       "      <td>82</td>\n",
       "      <td>None</td>\n",
       "      <td>//upload.wikimedia.org/wikipedia/commons/thumb...</td>\n",
       "    </tr>\n",
       "    <tr>\n",
       "      <th>8</th>\n",
       "      <td>527170</td>\n",
       "      <td>Leonel_Álvarez</td>\n",
       "      <td>Leonel Álvarez</td>\n",
       "      <td>Leonel Álvarez</td>\n",
       "      <td>None</td>\n",
       "      <td>futbolista colombiano</td>\n",
       "      <td>image/jpeg</td>\n",
       "      <td>None</td>\n",
       "      <td>60</td>\n",
       "      <td>97</td>\n",
       "      <td>None</td>\n",
       "      <td>//upload.wikimedia.org/wikipedia/commons/thumb...</td>\n",
       "    </tr>\n",
       "    <tr>\n",
       "      <th>9</th>\n",
       "      <td>82604</td>\n",
       "      <td>Leonard_Cohen</td>\n",
       "      <td>Leonard Cohen</td>\n",
       "      <td>Leonard Cohen</td>\n",
       "      <td>None</td>\n",
       "      <td>Poeta, escritor y cantautor canadiense</td>\n",
       "      <td>image/jpeg</td>\n",
       "      <td>None</td>\n",
       "      <td>60</td>\n",
       "      <td>89</td>\n",
       "      <td>None</td>\n",
       "      <td>//upload.wikimedia.org/wikipedia/commons/thumb...</td>\n",
       "    </tr>\n",
       "  </tbody>\n",
       "</table>\n",
       "</div>"
      ],
      "text/plain": [
       "       id                key              title            excerpt  \\\n",
       "0   25116       Panthera_leo       Panthera leo               Leon   \n",
       "1    7236  Leonardo_da_Vinci  Leonardo da Vinci  Leonardo da Vinci   \n",
       "2    7057     Leonhard_Euler     Leonhard Euler     Leonhard Euler   \n",
       "3  218655  Leonardo_DiCaprio  Leonardo DiCaprio  Leonardo DiCaprio   \n",
       "4   74170    Leonid_Brézhnev    Leonid Brézhnev    Leonid Brézhnev   \n",
       "5   66278   Leonel_Fernández   Leonel Fernández   Leonel Fernández   \n",
       "6  220964   Leonor_de_Borbón   Leonor de Borbón   Leonor de Borbón   \n",
       "7  468925     Leonardo_Favio     Leonardo Favio     Leonardo Favio   \n",
       "8  527170     Leonel_Álvarez     Leonel Álvarez     Leonel Álvarez   \n",
       "9   82604      Leonard_Cohen      Leonard Cohen      Leonard Cohen   \n",
       "\n",
       "  matched_title                                       description  \\\n",
       "0          Leon   mamífero carnívoro de la familia de los félidos   \n",
       "1          None                                 polímata italiano   \n",
       "2          None                        matemático nacido en Suiza   \n",
       "3          None  actor y productor cinematográfico estadounidense   \n",
       "4          None                                político soviético   \n",
       "5          None           político, escritor y abogado dominicano   \n",
       "6          None      XXXVII Princesa de Asturias (2014-presente).   \n",
       "7          None                                 artista argentino   \n",
       "8          None                             futbolista colombiano   \n",
       "9          None            Poeta, escritor y cantautor canadiense   \n",
       "\n",
       "  thumbnail.mimetype thumbnail.size  thumbnail.width  thumbnail.height  \\\n",
       "0         image/jpeg           None               60                45   \n",
       "1         image/jpeg           None               60                94   \n",
       "2         image/jpeg           None               60                75   \n",
       "3         image/jpeg           None               60                95   \n",
       "4         image/jpeg           None               60                84   \n",
       "5         image/jpeg           None               60                76   \n",
       "6         image/jpeg           None               60                80   \n",
       "7         image/jpeg           None               60                82   \n",
       "8         image/jpeg           None               60                97   \n",
       "9         image/jpeg           None               60                89   \n",
       "\n",
       "  thumbnail.duration                                      thumbnail.url  \n",
       "0               None  //upload.wikimedia.org/wikipedia/commons/thumb...  \n",
       "1               None  //upload.wikimedia.org/wikipedia/commons/thumb...  \n",
       "2               None  //upload.wikimedia.org/wikipedia/commons/thumb...  \n",
       "3               None  //upload.wikimedia.org/wikipedia/commons/thumb...  \n",
       "4               None  //upload.wikimedia.org/wikipedia/commons/thumb...  \n",
       "5               None  //upload.wikimedia.org/wikipedia/commons/thumb...  \n",
       "6               None  //upload.wikimedia.org/wikipedia/commons/thumb...  \n",
       "7               None  //upload.wikimedia.org/wikipedia/commons/thumb...  \n",
       "8               None  //upload.wikimedia.org/wikipedia/commons/thumb...  \n",
       "9               None  //upload.wikimedia.org/wikipedia/commons/thumb...  "
      ]
     },
     "execution_count": 23,
     "metadata": {},
     "output_type": "execute_result"
    }
   ],
   "source": [
    "df = pd.json_normalize(request5_wiki.json()['pages'])\n",
    "df"
   ]
  },
  {
   "cell_type": "code",
   "execution_count": 24,
   "id": "7f6768ab-1c27-4d22-8021-98778633fcda",
   "metadata": {},
   "outputs": [
    {
     "data": {
      "text/plain": [
       "200"
      ]
     },
     "execution_count": 24,
     "metadata": {},
     "output_type": "execute_result"
    }
   ],
   "source": [
    "buscar_titulo = 'Xoloitzcuintle'\n",
    " \n",
    "endpoint = 'https://en.wikipedia.org/w/rest.php/v1/page/' + buscar_titulo\n",
    "\n",
    "request6_wiki = requests.get(endpoint)\n",
    "\n",
    "request6_wiki.status_code"
   ]
  },
  {
   "cell_type": "code",
   "execution_count": 25,
   "id": "b6ccfd16-1dae-47eb-965c-f7156d0a1e1c",
   "metadata": {},
   "outputs": [
    {
     "data": {
      "text/plain": [
       "dict_keys(['id', 'key', 'title', 'latest', 'content_model', 'license', 'source'])"
      ]
     },
     "execution_count": 25,
     "metadata": {},
     "output_type": "execute_result"
    }
   ],
   "source": [
    "request6_wiki.json().keys()"
   ]
  },
  {
   "cell_type": "code",
   "execution_count": 26,
   "id": "d8168bfb-f8bf-4f48-b27a-f1e069b5a691",
   "metadata": {},
   "outputs": [],
   "source": [
    "df = pd.json_normalize(request6_wiki.json())\n",
    "#df['source'][0]"
   ]
  },
  {
   "cell_type": "code",
   "execution_count": null,
   "id": "7041b9ee-3ac3-4d5b-b561-c824644fb4a6",
   "metadata": {},
   "outputs": [],
   "source": []
  }
 ],
 "metadata": {
  "kernelspec": {
   "display_name": "Python 3",
   "language": "python",
   "name": "python3"
  },
  "language_info": {
   "codemirror_mode": {
    "name": "ipython",
    "version": 3
   },
   "file_extension": ".py",
   "mimetype": "text/x-python",
   "name": "python",
   "nbconvert_exporter": "python",
   "pygments_lexer": "ipython3",
   "version": "3.8.13"
  }
 },
 "nbformat": 4,
 "nbformat_minor": 5
}
