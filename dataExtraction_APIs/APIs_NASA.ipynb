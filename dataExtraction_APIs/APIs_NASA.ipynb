{
 "cells": [
  {
   "cell_type": "markdown",
   "id": "c4323b38-f135-43e5-b8ee-9d2e8fb4634f",
   "metadata": {},
   "source": [
    "## Solicitud de datos \n",
    "\n",
    "[documentacion](https://docs.python-requests.org/en/v1.2.3/user/quickstart/)\n",
    "\n",
    "La libreria _requests_ de python nos permite realizar peticiones HTTP. \n",
    "\n",
    "HTTP (Protocolo de transferencia de hipertexto) es un protocolo orientado a transacciones y sigue el esquema petición-respuesta entre un cliente y un servidor. \n",
    "Cada petición requiere de una acción (verbos: GET, PUT, POST, DELETE...) \n",
    "\n",
    "----\n",
    "\n",
    "Extracción de datos usando una API de la NASA:\n",
    "\n",
    "- Acceder a [api.nasa](https://api.nasa.gov)\n",
    "\n",
    "- Generar su propia API Key (usuario)\n",
    "\n",
    "- Browse APIS y elegir alguna"
   ]
  },
  {
   "cell_type": "code",
   "execution_count": 1,
   "id": "28deac6a-b140-4d9b-b52f-696c0a3b3904",
   "metadata": {},
   "outputs": [],
   "source": [
    "#!pip install requests\n",
    "\n",
    "import requests\n",
    "import pandas as pd"
   ]
  },
  {
   "cell_type": "code",
   "execution_count": 2,
   "id": "4ff29a54-0532-4d75-84e7-56e4356b322d",
   "metadata": {},
   "outputs": [
    {
     "data": {
      "text/plain": [
       "200"
      ]
     },
     "execution_count": 2,
     "metadata": {},
     "output_type": "execute_result"
    }
   ],
   "source": [
    "r = requests.get('https://api.github.com/events')\n",
    "\n",
    "#print(r.text)\n",
    "r.status_code"
   ]
  },
  {
   "cell_type": "markdown",
   "id": "73d6dba0-9ac1-4861-b0c5-cf5a2bcee284",
   "metadata": {},
   "source": [
    "#### Códigos de retorno más comunes de HTTP:\n",
    "\n",
    "200: La solicitud se realizó correctamente y el servidor devolvió los datos solicitados.\\\n",
    "201 (Creado): La solicitud se realizó correctamente y el servidor creó un nuevo recurso.\\\n",
    "204 (Sin contenido): La solicitud se realizó correctamente, pero no hay contenido que devolver.\\\n",
    "  \n",
    "4xx (Error del cliente): Indica que se produjo un error en el lado del cliente.\\\n",
    "400 (Solicitud incorrecta): La solicitud es inválida y no puede ser procesada por el servidor.\\\n",
    "...\n",
    "\n",
    "5xx (Error del servidor): Indica que se produjo un error en el lado del servidor.\\\n",
    "500 (Error interno del servidor): El servidor encontró un error interno durante el procesamiento de la solicitud.\\\n",
    "...\n"
   ]
  },
  {
   "cell_type": "code",
   "execution_count": 3,
   "id": "6b673068-f4da-45d3-bf99-f1c4bfc625e8",
   "metadata": {},
   "outputs": [],
   "source": [
    "r = requests.get('https://api.nasa.gov/neo/rest/v1/neo/browse/?api_key=DEMO_KEY')"
   ]
  },
  {
   "cell_type": "code",
   "execution_count": 4,
   "id": "40c9bf0f-0bc6-4222-8445-6774a20a9ad8",
   "metadata": {},
   "outputs": [
    {
     "data": {
      "text/plain": [
       "200"
      ]
     },
     "execution_count": 4,
     "metadata": {},
     "output_type": "execute_result"
    }
   ],
   "source": [
    "r.status_code"
   ]
  },
  {
   "cell_type": "code",
   "execution_count": 5,
   "id": "2c7a602f-8783-43ac-b3a1-8b94a0696a14",
   "metadata": {},
   "outputs": [],
   "source": [
    "r = requests.get('https://api.nasa.gov/neo/rest/v1/neo/browse/')"
   ]
  },
  {
   "cell_type": "code",
   "execution_count": 6,
   "id": "4c0a9003-2a2b-4d5d-b8a1-53a9fe1a95b6",
   "metadata": {},
   "outputs": [
    {
     "data": {
      "text/plain": [
       "403"
      ]
     },
     "execution_count": 6,
     "metadata": {},
     "output_type": "execute_result"
    }
   ],
   "source": [
    "r.status_code"
   ]
  },
  {
   "cell_type": "markdown",
   "id": "8599c05b-74de-4fa0-81c4-5f202e9a06be",
   "metadata": {},
   "source": [
    "> GET https://api.nasa.gov/neo/rest/v1/feed?start_date=START_DATE&end_date=END_DATE&api_key=API_KEY"
   ]
  },
  {
   "cell_type": "code",
   "execution_count": 7,
   "id": "bb82f935-6e7c-479f-ab2b-e825bcb58847",
   "metadata": {},
   "outputs": [
    {
     "data": {
      "text/plain": [
       "200"
      ]
     },
     "execution_count": 7,
     "metadata": {},
     "output_type": "execute_result"
    }
   ],
   "source": [
    "url = \"https://api.nasa.gov/neo/rest/v1/neo/browse/\"\n",
    "mi_key = {'api_key': '4Qw6dtCAkjZa9G4zCnYDZeg0UjECBMcptxCHnJQt'}\n",
    "\n",
    "response = requests.get(url, params=mi_key)\n",
    "\n",
    "response.status_code"
   ]
  },
  {
   "cell_type": "code",
   "execution_count": 8,
   "id": "18f423b2-70a1-4358-b008-f499c8ca453f",
   "metadata": {},
   "outputs": [],
   "source": [
    "#response = requests.request(\"GET\", url, params=mi_key)"
   ]
  },
  {
   "cell_type": "code",
   "execution_count": 9,
   "id": "6fc27c80-ef93-4c51-a599-b453a1d984ea",
   "metadata": {},
   "outputs": [],
   "source": [
    "#print(response.text)"
   ]
  },
  {
   "cell_type": "code",
   "execution_count": 10,
   "id": "c560cc14-f4fd-46f4-9f3a-7ab9a3b6cc78",
   "metadata": {},
   "outputs": [
    {
     "data": {
      "text/plain": [
       "200"
      ]
     },
     "execution_count": 10,
     "metadata": {},
     "output_type": "execute_result"
    }
   ],
   "source": [
    "url = \"https://api.nasa.gov/neo/rest/v1/neo/browse/\"\n",
    "mis_params = {'api_key': '4Qw6dtCAkjZa9G4zCnYDZeg0UjECBMcptxCHnJQt',\n",
    "             'start_date': '2023-04-01',\n",
    "             'end_date': '2023-04-30'}\n",
    "\n",
    "r2 = requests.get(url, params = mis_params)\n",
    "\n",
    "r2.status_code"
   ]
  },
  {
   "cell_type": "code",
   "execution_count": 11,
   "id": "bc73d8be-eecd-4659-8600-ccb49a82cf56",
   "metadata": {},
   "outputs": [],
   "source": [
    "dict_data = r2.json()"
   ]
  },
  {
   "cell_type": "code",
   "execution_count": 12,
   "id": "bab6509d-56ca-4c35-8a8b-4d69de71b2cf",
   "metadata": {},
   "outputs": [
    {
     "data": {
      "text/plain": [
       "dict_keys(['links', 'page', 'near_earth_objects'])"
      ]
     },
     "execution_count": 12,
     "metadata": {},
     "output_type": "execute_result"
    }
   ],
   "source": [
    "dict_data.keys()"
   ]
  },
  {
   "cell_type": "code",
   "execution_count": 13,
   "id": "a3e3d3cb-cf8f-484b-b7e1-5ef1cce1299f",
   "metadata": {},
   "outputs": [],
   "source": [
    "data = dict_data['near_earth_objects']"
   ]
  },
  {
   "cell_type": "code",
   "execution_count": 14,
   "id": "f5924315-a520-441e-90c5-8dac4b1ed22a",
   "metadata": {},
   "outputs": [
    {
     "data": {
      "text/html": [
       "<div>\n",
       "<style scoped>\n",
       "    .dataframe tbody tr th:only-of-type {\n",
       "        vertical-align: middle;\n",
       "    }\n",
       "\n",
       "    .dataframe tbody tr th {\n",
       "        vertical-align: top;\n",
       "    }\n",
       "\n",
       "    .dataframe thead th {\n",
       "        text-align: right;\n",
       "    }\n",
       "</style>\n",
       "<table border=\"1\" class=\"dataframe\">\n",
       "  <thead>\n",
       "    <tr style=\"text-align: right;\">\n",
       "      <th></th>\n",
       "      <th>id</th>\n",
       "      <th>neo_reference_id</th>\n",
       "      <th>name</th>\n",
       "      <th>name_limited</th>\n",
       "      <th>designation</th>\n",
       "      <th>nasa_jpl_url</th>\n",
       "      <th>absolute_magnitude_h</th>\n",
       "      <th>is_potentially_hazardous_asteroid</th>\n",
       "      <th>close_approach_data</th>\n",
       "      <th>is_sentry_object</th>\n",
       "      <th>...</th>\n",
       "      <th>orbital_data.perihelion_distance</th>\n",
       "      <th>orbital_data.perihelion_argument</th>\n",
       "      <th>orbital_data.aphelion_distance</th>\n",
       "      <th>orbital_data.perihelion_time</th>\n",
       "      <th>orbital_data.mean_anomaly</th>\n",
       "      <th>orbital_data.mean_motion</th>\n",
       "      <th>orbital_data.equinox</th>\n",
       "      <th>orbital_data.orbit_class.orbit_class_type</th>\n",
       "      <th>orbital_data.orbit_class.orbit_class_description</th>\n",
       "      <th>orbital_data.orbit_class.orbit_class_range</th>\n",
       "    </tr>\n",
       "  </thead>\n",
       "  <tbody>\n",
       "    <tr>\n",
       "      <th>0</th>\n",
       "      <td>2000433</td>\n",
       "      <td>2000433</td>\n",
       "      <td>433 Eros (A898 PA)</td>\n",
       "      <td>Eros</td>\n",
       "      <td>433</td>\n",
       "      <td>http://ssd.jpl.nasa.gov/sbdb.cgi?sstr=2000433</td>\n",
       "      <td>10.31</td>\n",
       "      <td>False</td>\n",
       "      <td>[{'close_approach_date': '1900-12-27', 'close_...</td>\n",
       "      <td>False</td>\n",
       "      <td>...</td>\n",
       "      <td>1.133284372081002</td>\n",
       "      <td>178.9269951795186</td>\n",
       "      <td>1.782973900121676</td>\n",
       "      <td>2459802.601698595905</td>\n",
       "      <td>110.7776526746434</td>\n",
       "      <td>.5597706088868498</td>\n",
       "      <td>J2000</td>\n",
       "      <td>AMO</td>\n",
       "      <td>Near-Earth asteroid orbits similar to that of ...</td>\n",
       "      <td>1.017 AU &lt; q (perihelion) &lt; 1.3 AU</td>\n",
       "    </tr>\n",
       "    <tr>\n",
       "      <th>1</th>\n",
       "      <td>2000719</td>\n",
       "      <td>2000719</td>\n",
       "      <td>719 Albert (A911 TB)</td>\n",
       "      <td>Albert</td>\n",
       "      <td>719</td>\n",
       "      <td>http://ssd.jpl.nasa.gov/sbdb.cgi?sstr=2000719</td>\n",
       "      <td>15.59</td>\n",
       "      <td>False</td>\n",
       "      <td>[{'close_approach_date': '1909-08-21', 'close_...</td>\n",
       "      <td>False</td>\n",
       "      <td>...</td>\n",
       "      <td>1.194521858788897</td>\n",
       "      <td>156.2503681890173</td>\n",
       "      <td>4.079828796226027</td>\n",
       "      <td>2459956.023234763085</td>\n",
       "      <td>10.23596428095426</td>\n",
       "      <td>.2301418330768929</td>\n",
       "      <td>J2000</td>\n",
       "      <td>AMO</td>\n",
       "      <td>Near-Earth asteroid orbits similar to that of ...</td>\n",
       "      <td>1.017 AU &lt; q (perihelion) &lt; 1.3 AU</td>\n",
       "    </tr>\n",
       "    <tr>\n",
       "      <th>2</th>\n",
       "      <td>2000887</td>\n",
       "      <td>2000887</td>\n",
       "      <td>887 Alinda (A918 AA)</td>\n",
       "      <td>Alinda</td>\n",
       "      <td>887</td>\n",
       "      <td>http://ssd.jpl.nasa.gov/sbdb.cgi?sstr=2000887</td>\n",
       "      <td>13.83</td>\n",
       "      <td>False</td>\n",
       "      <td>[{'close_approach_date': '1910-01-04', 'close_...</td>\n",
       "      <td>False</td>\n",
       "      <td>...</td>\n",
       "      <td>1.061321201278226</td>\n",
       "      <td>350.4750169387657</td>\n",
       "      <td>3.883609286075629</td>\n",
       "      <td>2460678.792844248905</td>\n",
       "      <td>188.0405622650862</td>\n",
       "      <td>.2535179888641312</td>\n",
       "      <td>J2000</td>\n",
       "      <td>AMO</td>\n",
       "      <td>Near-Earth asteroid orbits similar to that of ...</td>\n",
       "      <td>1.017 AU &lt; q (perihelion) &lt; 1.3 AU</td>\n",
       "    </tr>\n",
       "  </tbody>\n",
       "</table>\n",
       "<p>3 rows × 44 columns</p>\n",
       "</div>"
      ],
      "text/plain": [
       "        id neo_reference_id                  name name_limited designation  \\\n",
       "0  2000433          2000433    433 Eros (A898 PA)         Eros         433   \n",
       "1  2000719          2000719  719 Albert (A911 TB)       Albert         719   \n",
       "2  2000887          2000887  887 Alinda (A918 AA)       Alinda         887   \n",
       "\n",
       "                                    nasa_jpl_url  absolute_magnitude_h  \\\n",
       "0  http://ssd.jpl.nasa.gov/sbdb.cgi?sstr=2000433                 10.31   \n",
       "1  http://ssd.jpl.nasa.gov/sbdb.cgi?sstr=2000719                 15.59   \n",
       "2  http://ssd.jpl.nasa.gov/sbdb.cgi?sstr=2000887                 13.83   \n",
       "\n",
       "   is_potentially_hazardous_asteroid  \\\n",
       "0                              False   \n",
       "1                              False   \n",
       "2                              False   \n",
       "\n",
       "                                 close_approach_data  is_sentry_object  ...  \\\n",
       "0  [{'close_approach_date': '1900-12-27', 'close_...             False  ...   \n",
       "1  [{'close_approach_date': '1909-08-21', 'close_...             False  ...   \n",
       "2  [{'close_approach_date': '1910-01-04', 'close_...             False  ...   \n",
       "\n",
       "  orbital_data.perihelion_distance  orbital_data.perihelion_argument  \\\n",
       "0                1.133284372081002                 178.9269951795186   \n",
       "1                1.194521858788897                 156.2503681890173   \n",
       "2                1.061321201278226                 350.4750169387657   \n",
       "\n",
       "   orbital_data.aphelion_distance  orbital_data.perihelion_time  \\\n",
       "0               1.782973900121676          2459802.601698595905   \n",
       "1               4.079828796226027          2459956.023234763085   \n",
       "2               3.883609286075629          2460678.792844248905   \n",
       "\n",
       "   orbital_data.mean_anomaly  orbital_data.mean_motion  orbital_data.equinox  \\\n",
       "0          110.7776526746434         .5597706088868498                 J2000   \n",
       "1          10.23596428095426         .2301418330768929                 J2000   \n",
       "2          188.0405622650862         .2535179888641312                 J2000   \n",
       "\n",
       "   orbital_data.orbit_class.orbit_class_type  \\\n",
       "0                                        AMO   \n",
       "1                                        AMO   \n",
       "2                                        AMO   \n",
       "\n",
       "    orbital_data.orbit_class.orbit_class_description  \\\n",
       "0  Near-Earth asteroid orbits similar to that of ...   \n",
       "1  Near-Earth asteroid orbits similar to that of ...   \n",
       "2  Near-Earth asteroid orbits similar to that of ...   \n",
       "\n",
       "  orbital_data.orbit_class.orbit_class_range  \n",
       "0         1.017 AU < q (perihelion) < 1.3 AU  \n",
       "1         1.017 AU < q (perihelion) < 1.3 AU  \n",
       "2         1.017 AU < q (perihelion) < 1.3 AU  \n",
       "\n",
       "[3 rows x 44 columns]"
      ]
     },
     "execution_count": 14,
     "metadata": {},
     "output_type": "execute_result"
    }
   ],
   "source": [
    "# pd.json_normalize : Normalize semi-structured JSON data into a flat table.\n",
    "# https://pandas.pydata.org/docs/reference/api/pandas.json_normalize.html\n",
    "\n",
    "df = pd.json_normalize(data)\n",
    "df.head(3)"
   ]
  },
  {
   "cell_type": "code",
   "execution_count": 15,
   "id": "843aa3d6-0f77-49e0-8814-9f50e9f267ab",
   "metadata": {},
   "outputs": [
    {
     "data": {
      "text/plain": [
       "(20, 44)"
      ]
     },
     "execution_count": 15,
     "metadata": {},
     "output_type": "execute_result"
    }
   ],
   "source": [
    "df.shape"
   ]
  },
  {
   "cell_type": "code",
   "execution_count": 16,
   "id": "7ff99050-c046-429f-977c-3987e9626411",
   "metadata": {},
   "outputs": [
    {
     "data": {
      "text/plain": [
       "Index(['id', 'neo_reference_id', 'name', 'name_limited', 'designation',\n",
       "       'nasa_jpl_url', 'absolute_magnitude_h',\n",
       "       'is_potentially_hazardous_asteroid', 'close_approach_data',\n",
       "       'is_sentry_object', 'links.self',\n",
       "       'estimated_diameter.kilometers.estimated_diameter_min',\n",
       "       'estimated_diameter.kilometers.estimated_diameter_max',\n",
       "       'estimated_diameter.meters.estimated_diameter_min',\n",
       "       'estimated_diameter.meters.estimated_diameter_max',\n",
       "       'estimated_diameter.miles.estimated_diameter_min',\n",
       "       'estimated_diameter.miles.estimated_diameter_max',\n",
       "       'estimated_diameter.feet.estimated_diameter_min',\n",
       "       'estimated_diameter.feet.estimated_diameter_max',\n",
       "       'orbital_data.orbit_id', 'orbital_data.orbit_determination_date',\n",
       "       'orbital_data.first_observation_date',\n",
       "       'orbital_data.last_observation_date', 'orbital_data.data_arc_in_days',\n",
       "       'orbital_data.observations_used', 'orbital_data.orbit_uncertainty',\n",
       "       'orbital_data.minimum_orbit_intersection',\n",
       "       'orbital_data.jupiter_tisserand_invariant',\n",
       "       'orbital_data.epoch_osculation', 'orbital_data.eccentricity',\n",
       "       'orbital_data.semi_major_axis', 'orbital_data.inclination',\n",
       "       'orbital_data.ascending_node_longitude', 'orbital_data.orbital_period',\n",
       "       'orbital_data.perihelion_distance', 'orbital_data.perihelion_argument',\n",
       "       'orbital_data.aphelion_distance', 'orbital_data.perihelion_time',\n",
       "       'orbital_data.mean_anomaly', 'orbital_data.mean_motion',\n",
       "       'orbital_data.equinox', 'orbital_data.orbit_class.orbit_class_type',\n",
       "       'orbital_data.orbit_class.orbit_class_description',\n",
       "       'orbital_data.orbit_class.orbit_class_range'],\n",
       "      dtype='object')"
      ]
     },
     "execution_count": 16,
     "metadata": {},
     "output_type": "execute_result"
    }
   ],
   "source": [
    "df.columns"
   ]
  },
  {
   "cell_type": "code",
   "execution_count": 17,
   "id": "db079820-0e1b-439e-9756-c6a1913b977f",
   "metadata": {},
   "outputs": [
    {
     "data": {
      "text/plain": [
       "<AxesSubplot:>"
      ]
     },
     "execution_count": 17,
     "metadata": {},
     "output_type": "execute_result"
    },
    {
     "data": {
      "image/png": "[encoded data removed]",
      "text/plain": [
       "<Figure size 432x288 with 1 Axes>"
      ]
     },
     "metadata": {
      "needs_background": "light"
     },
     "output_type": "display_data"
    }
   ],
   "source": [
    "df['estimated_diameter.kilometers.estimated_diameter_min'].hist()"
   ]
  },
  {
   "cell_type": "markdown",
   "id": "19a84f5a-6e28-4fdb-81cf-7b855fc4d087",
   "metadata": {},
   "source": [
    "----"
   ]
  },
  {
   "cell_type": "code",
   "execution_count": 18,
   "id": "e4311475-45c6-4cbb-8661-4260a145a926",
   "metadata": {},
   "outputs": [
    {
     "data": {
      "text/plain": [
       "200"
      ]
     },
     "execution_count": 18,
     "metadata": {},
     "output_type": "execute_result"
    }
   ],
   "source": [
    "url = \"https://api.nasa.gov/planetary/apod/\"\n",
    "\n",
    "mis_params = {\n",
    "    'start_date':'2021-01-12',\n",
    "    'end_date':'2021-02-12',\n",
    "    'api_key': '4Qw6dtCAkjZa9G4zCnYDZeg0UjECBMcptxCHnJQt'\n",
    "}\n",
    "\n",
    "r3 = requests.get(url, params = mis_params)\n",
    "r3.status_code"
   ]
  },
  {
   "cell_type": "code",
   "execution_count": 19,
   "id": "c36f1f84-346c-41fb-aea7-62dfc905974d",
   "metadata": {},
   "outputs": [],
   "source": [
    "#print(r3.text)"
   ]
  },
  {
   "cell_type": "code",
   "execution_count": 20,
   "id": "b4b8899f-67a4-465b-9685-afe02fae0355",
   "metadata": {},
   "outputs": [],
   "source": [
    "dict_data = r3.json()"
   ]
  },
  {
   "cell_type": "code",
   "execution_count": 21,
   "id": "e254832f-5b8b-48af-a6f4-00f139f14ee3",
   "metadata": {},
   "outputs": [],
   "source": [
    "df = pd.json_normalize(dict_data)"
   ]
  },
  {
   "cell_type": "code",
   "execution_count": 22,
   "id": "82c352b2-9831-47da-a677-9d9122956912",
   "metadata": {},
   "outputs": [
    {
     "data": {
      "text/html": [
       "<div>\n",
       "<style scoped>\n",
       "    .dataframe tbody tr th:only-of-type {\n",
       "        vertical-align: middle;\n",
       "    }\n",
       "\n",
       "    .dataframe tbody tr th {\n",
       "        vertical-align: top;\n",
       "    }\n",
       "\n",
       "    .dataframe thead th {\n",
       "        text-align: right;\n",
       "    }\n",
       "</style>\n",
       "<table border=\"1\" class=\"dataframe\">\n",
       "  <thead>\n",
       "    <tr style=\"text-align: right;\">\n",
       "      <th></th>\n",
       "      <th>copyright</th>\n",
       "      <th>date</th>\n",
       "      <th>explanation</th>\n",
       "      <th>hdurl</th>\n",
       "      <th>media_type</th>\n",
       "      <th>service_version</th>\n",
       "      <th>title</th>\n",
       "      <th>url</th>\n",
       "    </tr>\n",
       "  </thead>\n",
       "  <tbody>\n",
       "    <tr>\n",
       "      <th>0</th>\n",
       "      <td>Rodrigo Guerra</td>\n",
       "      <td>2021-01-12</td>\n",
       "      <td>The night sky is filled with stories. Cultures...</td>\n",
       "      <td>https://apod.nasa.gov/apod/image/2101/OldMan_G...</td>\n",
       "      <td>image</td>\n",
       "      <td>v1</td>\n",
       "      <td>A Historic Brazilian Constellation</td>\n",
       "      <td>https://apod.nasa.gov/apod/image/2101/OldMan_G...</td>\n",
       "    </tr>\n",
       "    <tr>\n",
       "      <th>1</th>\n",
       "      <td>Giulio Cobianchi</td>\n",
       "      <td>2021-01-13</td>\n",
       "      <td>What are these two giant arches across the sky...</td>\n",
       "      <td>https://apod.nasa.gov/apod/image/2101/ArcticSk...</td>\n",
       "      <td>image</td>\n",
       "      <td>v1</td>\n",
       "      <td>Arches Across an Arctic Sky</td>\n",
       "      <td>https://apod.nasa.gov/apod/image/2101/ArcticSk...</td>\n",
       "    </tr>\n",
       "    <tr>\n",
       "      <th>2</th>\n",
       "      <td>NaN</td>\n",
       "      <td>2021-01-14</td>\n",
       "      <td>Like salsa verde on your favorite burrito, a g...</td>\n",
       "      <td>https://apod.nasa.gov/apod/image/2101/aurora_i...</td>\n",
       "      <td>image</td>\n",
       "      <td>v1</td>\n",
       "      <td>Aurora Slathers Up the Sky</td>\n",
       "      <td>https://apod.nasa.gov/apod/image/2101/aurora_i...</td>\n",
       "    </tr>\n",
       "    <tr>\n",
       "      <th>3</th>\n",
       "      <td>NaN</td>\n",
       "      <td>2021-01-15</td>\n",
       "      <td>This shadowy landscape of majestic mountains a...</td>\n",
       "      <td>https://apod.nasa.gov/apod/image/2101/Pluto-Mo...</td>\n",
       "      <td>image</td>\n",
       "      <td>v1</td>\n",
       "      <td>A Plutonian Landscape</td>\n",
       "      <td>https://apod.nasa.gov/apod/image/2101/Pluto-Mo...</td>\n",
       "    </tr>\n",
       "    <tr>\n",
       "      <th>4</th>\n",
       "      <td>NaN</td>\n",
       "      <td>2021-01-16</td>\n",
       "      <td>This fantastic skyscape lies near the edge of ...</td>\n",
       "      <td>https://apod.nasa.gov/apod/image/2101/hs-2014-...</td>\n",
       "      <td>image</td>\n",
       "      <td>v1</td>\n",
       "      <td>The Mountains of NGC 2174</td>\n",
       "      <td>https://apod.nasa.gov/apod/image/2101/hs-2014-...</td>\n",
       "    </tr>\n",
       "  </tbody>\n",
       "</table>\n",
       "</div>"
      ],
      "text/plain": [
       "          copyright        date  \\\n",
       "0    Rodrigo Guerra  2021-01-12   \n",
       "1  Giulio Cobianchi  2021-01-13   \n",
       "2               NaN  2021-01-14   \n",
       "3               NaN  2021-01-15   \n",
       "4               NaN  2021-01-16   \n",
       "\n",
       "                                         explanation  \\\n",
       "0  The night sky is filled with stories. Cultures...   \n",
       "1  What are these two giant arches across the sky...   \n",
       "2  Like salsa verde on your favorite burrito, a g...   \n",
       "3  This shadowy landscape of majestic mountains a...   \n",
       "4  This fantastic skyscape lies near the edge of ...   \n",
       "\n",
       "                                               hdurl media_type  \\\n",
       "0  https://apod.nasa.gov/apod/image/2101/OldMan_G...      image   \n",
       "1  https://apod.nasa.gov/apod/image/2101/ArcticSk...      image   \n",
       "2  https://apod.nasa.gov/apod/image/2101/aurora_i...      image   \n",
       "3  https://apod.nasa.gov/apod/image/2101/Pluto-Mo...      image   \n",
       "4  https://apod.nasa.gov/apod/image/2101/hs-2014-...      image   \n",
       "\n",
       "  service_version                               title  \\\n",
       "0              v1  A Historic Brazilian Constellation   \n",
       "1              v1         Arches Across an Arctic Sky   \n",
       "2              v1          Aurora Slathers Up the Sky   \n",
       "3              v1               A Plutonian Landscape   \n",
       "4              v1           The Mountains of NGC 2174   \n",
       "\n",
       "                                                 url  \n",
       "0  https://apod.nasa.gov/apod/image/2101/OldMan_G...  \n",
       "1  https://apod.nasa.gov/apod/image/2101/ArcticSk...  \n",
       "2  https://apod.nasa.gov/apod/image/2101/aurora_i...  \n",
       "3  https://apod.nasa.gov/apod/image/2101/Pluto-Mo...  \n",
       "4  https://apod.nasa.gov/apod/image/2101/hs-2014-...  "
      ]
     },
     "execution_count": 22,
     "metadata": {},
     "output_type": "execute_result"
    }
   ],
   "source": [
    "df.head()"
   ]
  },
  {
   "cell_type": "markdown",
   "id": "56679567-94dd-4200-a731-00a248332191",
   "metadata": {},
   "source": [
    "----"
   ]
  },
  {
   "cell_type": "code",
   "execution_count": 23,
   "id": "fc8ddbde-1aa1-4f5a-8f10-da619c08f7bd",
   "metadata": {},
   "outputs": [
    {
     "data": {
      "text/plain": [
       "200"
      ]
     },
     "execution_count": 23,
     "metadata": {},
     "output_type": "execute_result"
    }
   ],
   "source": [
    "url = \"https://api.nasa.gov/planetary/earth/imagery/\"\n",
    "\n",
    "mis_params = {\n",
    "    'lon':'-101.706720',\n",
    "    'lat':'21.154030',\n",
    "    'date':'2019-02-01',\n",
    "    'api_key': '4Qw6dtCAkjZa9G4zCnYDZeg0UjECBMcptxCHnJQt'\n",
    "}\n",
    "\n",
    "r4 = requests.get(url, params = mis_params)\n",
    "r4.status_code\n"
   ]
  },
  {
   "cell_type": "code",
   "execution_count": 24,
   "id": "54e07d7d-6d53-4721-9f03-521af85abbe2",
   "metadata": {},
   "outputs": [
    {
     "data": {
      "text/plain": [
       "requests.models.Response"
      ]
     },
     "execution_count": 24,
     "metadata": {},
     "output_type": "execute_result"
    }
   ],
   "source": [
    "type(r4)"
   ]
  },
  {
   "cell_type": "code",
   "execution_count": 25,
   "id": "f160c347-3bc7-4834-93c3-94fd4bb22bcf",
   "metadata": {},
   "outputs": [],
   "source": [
    "from PIL import Image\n",
    "from io import BytesIO\n",
    "\n",
    "ima = Image.open(BytesIO(r4.content))"
   ]
  },
  {
   "cell_type": "code",
   "execution_count": 26,
   "id": "6a37c381-d359-44eb-943b-255a197ca3fa",
   "metadata": {},
   "outputs": [
    {
     "data": {
      "image/png": "[encoded data removed]",
      "text/plain": [
       "<PIL.PngImagePlugin.PngImageFile image mode=RGB size=2048x2048 at 0x7F7967D0B6D0>"
      ]
     },
     "execution_count": 26,
     "metadata": {},
     "output_type": "execute_result"
    }
   ],
   "source": [
    "ima"
   ]
  },
  {
   "cell_type": "code",
   "execution_count": null,
   "id": "cb446e87-f568-4fe1-95fe-0a56c9807270",
   "metadata": {},
   "outputs": [],
   "source": []
  }
 ],
 "metadata": {
  "kernelspec": {
   "display_name": "Python 3",
   "language": "python",
   "name": "python3"
  },
  "language_info": {
   "codemirror_mode": {
    "name": "ipython",
    "version": 3
   },
   "file_extension": ".py",
   "mimetype": "text/x-python",
   "name": "python",
   "nbconvert_exporter": "python",
   "pygments_lexer": "ipython3",
   "version": "3.8.13"
  }
 },
 "nbformat": 4,
 "nbformat_minor": 5
}
